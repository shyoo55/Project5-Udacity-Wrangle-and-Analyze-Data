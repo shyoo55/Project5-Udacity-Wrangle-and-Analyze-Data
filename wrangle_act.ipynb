{
  "nbformat": 4,
  "nbformat_minor": 0,
  "metadata": {
    "colab": {
      "name": "wrangle_act.ipynb",
      "provenance": []
    },
    "kernelspec": {
      "name": "python3",
      "display_name": "Python 3"
    },
    "language_info": {
      "name": "python"
    }
  },
  "cells": [
    {
      "cell_type": "markdown",
      "metadata": {
        "id": "OlEIF0KO0vWi"
      },
      "source": [
        "## **Project: Wrangle and Analyze Data**\n",
        "\n",
        "\n",
        "\n"
      ]
    },
    {
      "cell_type": "markdown",
      "metadata": {
        "id": "RB7QkhTM0uYH"
      },
      "source": [
        "### Introduction\n"
      ]
    },
    {
      "cell_type": "markdown",
      "metadata": {
        "id": "qKverAKb1HkJ"
      },
      "source": [
        "This project involves wrangling data from three different sources, all of which are connected to the popular WeRateDogs (@dog rates) Twitter account. WeRateDogs is a Twitter account that posts photos of dogs sent by their owners, along with a humorous caption and a rating that nearly always surpasses 10/10. "
      ]
    },
    {
      "cell_type": "markdown",
      "metadata": {
        "id": "m58SOmBQ1RxA"
      },
      "source": [
        "# The Data\n"
      ]
    },
    {
      "cell_type": "markdown",
      "metadata": {
        "id": "AxCoHiv81ZHT"
      },
      "source": [
        "This project encompass three dataset:\n",
        "\n",
        "1-Twitter archive (csv file)\n",
        "\n",
        "2-Image predictions for dogs(tsv file), \n",
        "\n",
        "3- Twitter  API ."
      ]
    },
    {
      "cell_type": "markdown",
      "metadata": {
        "id": "XXCd3m8s4tQx"
      },
      "source": [
        "# **Twitter  API .**"
      ]
    },
    {
      "cell_type": "markdown",
      "metadata": {
        "id": "M8pzsyCeDkpN"
      },
      "source": [
        "As a part of udacity student  , i always want to learn and explore, i know the knowledge remain by  implementation, I know how udacity care about  thier  students to achieve the full benefit and build strong cadres for the future, but because of the complexities of Twitter after communicating with them and the justification that I need a programmed account with boring details \n",
        "But I do not see any responses from them except that the email is repeated more than once to no avail. However, I go back to fill in all the details for them. \n",
        "‏And I hope to get a developer account in the future, but for lack of time I have completed the project with the data given by udacity, I hope you will accept it , and thank you"
      ]
    },
    {
      "cell_type": "markdown",
      "metadata": {
        "id": "jgF9ujNc4uRn"
      },
      "source": [
        " needed packages "
      ]
    },
    {
      "cell_type": "code",
      "metadata": {
        "id": "SuBl7N4WeGbi"
      },
      "source": [
        "# Import statements\n",
        "import pandas as pd\n",
        "import numpy as np\n",
        "import requests\n",
        "import tweepy\n",
        "import os\n",
        "import json\n",
        "import time\n",
        "import re\n",
        "import matplotlib.pyplot as plt\n",
        "import warnings\n",
        "from IPython.display import Image\n",
        "from functools import reduce\n",
        "import re\n",
        "import seaborn as sns\n",
        "import datetime\n",
        "#from jupyterthemes import jtplot\n",
        "#jtplot.style(theme='onedork')\n",
        "\n",
        "% matplotlib inline"
      ],
      "execution_count": 1,
      "outputs": []
    },
    {
      "cell_type": "markdown",
      "metadata": {
        "id": "owKOa4-k44NW"
      },
      "source": [
        "# **Gathering Data**"
      ]
    },
    {
      "cell_type": "markdown",
      "metadata": {
        "id": "5dJGiPUa487T"
      },
      "source": [
        "The WeRateDogs Twitter archive"
      ]
    },
    {
      "cell_type": "code",
      "metadata": {
        "colab": {
          "base_uri": "https://localhost:8080/",
          "height": 567
        },
        "id": "T88fAekheGmX",
        "outputId": "95495ff3-e552-41f8-8725-b8e457db56b9"
      },
      "source": [
        "# Open the csv file\n",
        "df_archive = pd.read_csv('twitter-archive-enhanced-2.csv')\n",
        "df_archive.head()"
      ],
      "execution_count": 2,
      "outputs": [
        {
          "output_type": "execute_result",
          "data": {
            "text/html": [
              "<div>\n",
              "<style scoped>\n",
              "    .dataframe tbody tr th:only-of-type {\n",
              "        vertical-align: middle;\n",
              "    }\n",
              "\n",
              "    .dataframe tbody tr th {\n",
              "        vertical-align: top;\n",
              "    }\n",
              "\n",
              "    .dataframe thead th {\n",
              "        text-align: right;\n",
              "    }\n",
              "</style>\n",
              "<table border=\"1\" class=\"dataframe\">\n",
              "  <thead>\n",
              "    <tr style=\"text-align: right;\">\n",
              "      <th></th>\n",
              "      <th>tweet_id</th>\n",
              "      <th>in_reply_to_status_id</th>\n",
              "      <th>in_reply_to_user_id</th>\n",
              "      <th>timestamp</th>\n",
              "      <th>source</th>\n",
              "      <th>text</th>\n",
              "      <th>retweeted_status_id</th>\n",
              "      <th>retweeted_status_user_id</th>\n",
              "      <th>retweeted_status_timestamp</th>\n",
              "      <th>expanded_urls</th>\n",
              "      <th>rating_numerator</th>\n",
              "      <th>rating_denominator</th>\n",
              "      <th>name</th>\n",
              "      <th>doggo</th>\n",
              "      <th>floofer</th>\n",
              "      <th>pupper</th>\n",
              "      <th>puppo</th>\n",
              "    </tr>\n",
              "  </thead>\n",
              "  <tbody>\n",
              "    <tr>\n",
              "      <th>0</th>\n",
              "      <td>892420643555336193</td>\n",
              "      <td>NaN</td>\n",
              "      <td>NaN</td>\n",
              "      <td>2017-08-01 16:23:56 +0000</td>\n",
              "      <td>&lt;a href=\"http://twitter.com/download/iphone\" r...</td>\n",
              "      <td>This is Phineas. He's a mystical boy. Only eve...</td>\n",
              "      <td>NaN</td>\n",
              "      <td>NaN</td>\n",
              "      <td>NaN</td>\n",
              "      <td>https://twitter.com/dog_rates/status/892420643...</td>\n",
              "      <td>13</td>\n",
              "      <td>10</td>\n",
              "      <td>Phineas</td>\n",
              "      <td>None</td>\n",
              "      <td>None</td>\n",
              "      <td>None</td>\n",
              "      <td>None</td>\n",
              "    </tr>\n",
              "    <tr>\n",
              "      <th>1</th>\n",
              "      <td>892177421306343426</td>\n",
              "      <td>NaN</td>\n",
              "      <td>NaN</td>\n",
              "      <td>2017-08-01 00:17:27 +0000</td>\n",
              "      <td>&lt;a href=\"http://twitter.com/download/iphone\" r...</td>\n",
              "      <td>This is Tilly. She's just checking pup on you....</td>\n",
              "      <td>NaN</td>\n",
              "      <td>NaN</td>\n",
              "      <td>NaN</td>\n",
              "      <td>https://twitter.com/dog_rates/status/892177421...</td>\n",
              "      <td>13</td>\n",
              "      <td>10</td>\n",
              "      <td>Tilly</td>\n",
              "      <td>None</td>\n",
              "      <td>None</td>\n",
              "      <td>None</td>\n",
              "      <td>None</td>\n",
              "    </tr>\n",
              "    <tr>\n",
              "      <th>2</th>\n",
              "      <td>891815181378084864</td>\n",
              "      <td>NaN</td>\n",
              "      <td>NaN</td>\n",
              "      <td>2017-07-31 00:18:03 +0000</td>\n",
              "      <td>&lt;a href=\"http://twitter.com/download/iphone\" r...</td>\n",
              "      <td>This is Archie. He is a rare Norwegian Pouncin...</td>\n",
              "      <td>NaN</td>\n",
              "      <td>NaN</td>\n",
              "      <td>NaN</td>\n",
              "      <td>https://twitter.com/dog_rates/status/891815181...</td>\n",
              "      <td>12</td>\n",
              "      <td>10</td>\n",
              "      <td>Archie</td>\n",
              "      <td>None</td>\n",
              "      <td>None</td>\n",
              "      <td>None</td>\n",
              "      <td>None</td>\n",
              "    </tr>\n",
              "    <tr>\n",
              "      <th>3</th>\n",
              "      <td>891689557279858688</td>\n",
              "      <td>NaN</td>\n",
              "      <td>NaN</td>\n",
              "      <td>2017-07-30 15:58:51 +0000</td>\n",
              "      <td>&lt;a href=\"http://twitter.com/download/iphone\" r...</td>\n",
              "      <td>This is Darla. She commenced a snooze mid meal...</td>\n",
              "      <td>NaN</td>\n",
              "      <td>NaN</td>\n",
              "      <td>NaN</td>\n",
              "      <td>https://twitter.com/dog_rates/status/891689557...</td>\n",
              "      <td>13</td>\n",
              "      <td>10</td>\n",
              "      <td>Darla</td>\n",
              "      <td>None</td>\n",
              "      <td>None</td>\n",
              "      <td>None</td>\n",
              "      <td>None</td>\n",
              "    </tr>\n",
              "    <tr>\n",
              "      <th>4</th>\n",
              "      <td>891327558926688256</td>\n",
              "      <td>NaN</td>\n",
              "      <td>NaN</td>\n",
              "      <td>2017-07-29 16:00:24 +0000</td>\n",
              "      <td>&lt;a href=\"http://twitter.com/download/iphone\" r...</td>\n",
              "      <td>This is Franklin. He would like you to stop ca...</td>\n",
              "      <td>NaN</td>\n",
              "      <td>NaN</td>\n",
              "      <td>NaN</td>\n",
              "      <td>https://twitter.com/dog_rates/status/891327558...</td>\n",
              "      <td>12</td>\n",
              "      <td>10</td>\n",
              "      <td>Franklin</td>\n",
              "      <td>None</td>\n",
              "      <td>None</td>\n",
              "      <td>None</td>\n",
              "      <td>None</td>\n",
              "    </tr>\n",
              "  </tbody>\n",
              "</table>\n",
              "</div>"
            ],
            "text/plain": [
              "             tweet_id  in_reply_to_status_id  ...  pupper puppo\n",
              "0  892420643555336193                    NaN  ...    None  None\n",
              "1  892177421306343426                    NaN  ...    None  None\n",
              "2  891815181378084864                    NaN  ...    None  None\n",
              "3  891689557279858688                    NaN  ...    None  None\n",
              "4  891327558926688256                    NaN  ...    None  None\n",
              "\n",
              "[5 rows x 17 columns]"
            ]
          },
          "metadata": {},
          "execution_count": 2
        }
      ]
    },
    {
      "cell_type": "markdown",
      "metadata": {
        "id": "jqqOlpJL5PPc"
      },
      "source": [
        "Tweet image prediction"
      ]
    },
    {
      "cell_type": "code",
      "metadata": {
        "colab": {
          "base_uri": "https://localhost:8080/"
        },
        "id": "GmKTsQRNeAbq",
        "outputId": "d426fcb9-c8ae-4f15-8e52-ae8c17b01ca6"
      },
      "source": [
        "# Download the image prediction that's provided by  Udacity \n",
        "url = 'https://video.udacity-data.com/topher/2018/November/5bf60c69_image-predictions-3/image-predictions-3.tsv'\n",
        "image_request = requests.get(url, allow_redirects=True)\n",
        "\n",
        "open('image_predictions.tsv', 'wb').write(image_request.content)"
      ],
      "execution_count": 3,
      "outputs": [
        {
          "output_type": "execute_result",
          "data": {
            "text/plain": [
              "335079"
            ]
          },
          "metadata": {},
          "execution_count": 3
        }
      ]
    },
    {
      "cell_type": "code",
      "metadata": {
        "colab": {
          "base_uri": "https://localhost:8080/",
          "height": 221
        },
        "id": "A-nIUxs6eisA",
        "outputId": "8712bb6d-507a-42f3-8839-1272ac846a19"
      },
      "source": [
        "# Showing the data in the df image \n",
        "df_image = pd.read_csv('image_predictions.tsv', sep = '\\t')\n",
        "df_image.head()"
      ],
      "execution_count": 4,
      "outputs": [
        {
          "output_type": "execute_result",
          "data": {
            "text/html": [
              "<div>\n",
              "<style scoped>\n",
              "    .dataframe tbody tr th:only-of-type {\n",
              "        vertical-align: middle;\n",
              "    }\n",
              "\n",
              "    .dataframe tbody tr th {\n",
              "        vertical-align: top;\n",
              "    }\n",
              "\n",
              "    .dataframe thead th {\n",
              "        text-align: right;\n",
              "    }\n",
              "</style>\n",
              "<table border=\"1\" class=\"dataframe\">\n",
              "  <thead>\n",
              "    <tr style=\"text-align: right;\">\n",
              "      <th></th>\n",
              "      <th>tweet_id</th>\n",
              "      <th>jpg_url</th>\n",
              "      <th>img_num</th>\n",
              "      <th>p1</th>\n",
              "      <th>p1_conf</th>\n",
              "      <th>p1_dog</th>\n",
              "      <th>p2</th>\n",
              "      <th>p2_conf</th>\n",
              "      <th>p2_dog</th>\n",
              "      <th>p3</th>\n",
              "      <th>p3_conf</th>\n",
              "      <th>p3_dog</th>\n",
              "    </tr>\n",
              "  </thead>\n",
              "  <tbody>\n",
              "    <tr>\n",
              "      <th>0</th>\n",
              "      <td>666020888022790149</td>\n",
              "      <td>https://pbs.twimg.com/media/CT4udn0WwAA0aMy.jpg</td>\n",
              "      <td>1</td>\n",
              "      <td>Welsh_springer_spaniel</td>\n",
              "      <td>0.465074</td>\n",
              "      <td>True</td>\n",
              "      <td>collie</td>\n",
              "      <td>0.156665</td>\n",
              "      <td>True</td>\n",
              "      <td>Shetland_sheepdog</td>\n",
              "      <td>0.061428</td>\n",
              "      <td>True</td>\n",
              "    </tr>\n",
              "    <tr>\n",
              "      <th>1</th>\n",
              "      <td>666029285002620928</td>\n",
              "      <td>https://pbs.twimg.com/media/CT42GRgUYAA5iDo.jpg</td>\n",
              "      <td>1</td>\n",
              "      <td>redbone</td>\n",
              "      <td>0.506826</td>\n",
              "      <td>True</td>\n",
              "      <td>miniature_pinscher</td>\n",
              "      <td>0.074192</td>\n",
              "      <td>True</td>\n",
              "      <td>Rhodesian_ridgeback</td>\n",
              "      <td>0.072010</td>\n",
              "      <td>True</td>\n",
              "    </tr>\n",
              "    <tr>\n",
              "      <th>2</th>\n",
              "      <td>666033412701032449</td>\n",
              "      <td>https://pbs.twimg.com/media/CT4521TWwAEvMyu.jpg</td>\n",
              "      <td>1</td>\n",
              "      <td>German_shepherd</td>\n",
              "      <td>0.596461</td>\n",
              "      <td>True</td>\n",
              "      <td>malinois</td>\n",
              "      <td>0.138584</td>\n",
              "      <td>True</td>\n",
              "      <td>bloodhound</td>\n",
              "      <td>0.116197</td>\n",
              "      <td>True</td>\n",
              "    </tr>\n",
              "    <tr>\n",
              "      <th>3</th>\n",
              "      <td>666044226329800704</td>\n",
              "      <td>https://pbs.twimg.com/media/CT5Dr8HUEAA-lEu.jpg</td>\n",
              "      <td>1</td>\n",
              "      <td>Rhodesian_ridgeback</td>\n",
              "      <td>0.408143</td>\n",
              "      <td>True</td>\n",
              "      <td>redbone</td>\n",
              "      <td>0.360687</td>\n",
              "      <td>True</td>\n",
              "      <td>miniature_pinscher</td>\n",
              "      <td>0.222752</td>\n",
              "      <td>True</td>\n",
              "    </tr>\n",
              "    <tr>\n",
              "      <th>4</th>\n",
              "      <td>666049248165822465</td>\n",
              "      <td>https://pbs.twimg.com/media/CT5IQmsXIAAKY4A.jpg</td>\n",
              "      <td>1</td>\n",
              "      <td>miniature_pinscher</td>\n",
              "      <td>0.560311</td>\n",
              "      <td>True</td>\n",
              "      <td>Rottweiler</td>\n",
              "      <td>0.243682</td>\n",
              "      <td>True</td>\n",
              "      <td>Doberman</td>\n",
              "      <td>0.154629</td>\n",
              "      <td>True</td>\n",
              "    </tr>\n",
              "  </tbody>\n",
              "</table>\n",
              "</div>"
            ],
            "text/plain": [
              "             tweet_id  ... p3_dog\n",
              "0  666020888022790149  ...   True\n",
              "1  666029285002620928  ...   True\n",
              "2  666033412701032449  ...   True\n",
              "3  666044226329800704  ...   True\n",
              "4  666049248165822465  ...   True\n",
              "\n",
              "[5 rows x 12 columns]"
            ]
          },
          "metadata": {},
          "execution_count": 4
        }
      ]
    },
    {
      "cell_type": "markdown",
      "metadata": {
        "id": "ydZU85bg5pUz"
      },
      "source": [
        "Twitter API & JSON"
      ]
    },
    {
      "cell_type": "code",
      "metadata": {
        "colab": {
          "base_uri": "https://localhost:8080/",
          "height": 201
        },
        "id": "s6P1gsIGetg0",
        "outputId": "c40f5550-015e-435f-bedb-5c47876331cd"
      },
      "source": [
        "with open('/content/tweet-json') as json_f:\n",
        "    df_tweets_API = pd.DataFrame(columns = ['tweet_id','favorites','retweets']) #need (tweet ID, retweet count, and favorite count)\n",
        "    \n",
        "    for info in json_f:\n",
        "        tweets = json.loads(info)\n",
        "        data = {'tweet_id': tweets['id'],'favorites': tweets['favorite_count'],\n",
        "                                      'retweets': tweets['retweet_count']}\n",
        "        ser = pd.Series(data)\n",
        "        df_tweets_API = df_tweets_API.append(data,ignore_index=True)\n",
        "df_tweets_API.head()"
      ],
      "execution_count": 5,
      "outputs": [
        {
          "output_type": "execute_result",
          "data": {
            "text/html": [
              "<div>\n",
              "<style scoped>\n",
              "    .dataframe tbody tr th:only-of-type {\n",
              "        vertical-align: middle;\n",
              "    }\n",
              "\n",
              "    .dataframe tbody tr th {\n",
              "        vertical-align: top;\n",
              "    }\n",
              "\n",
              "    .dataframe thead th {\n",
              "        text-align: right;\n",
              "    }\n",
              "</style>\n",
              "<table border=\"1\" class=\"dataframe\">\n",
              "  <thead>\n",
              "    <tr style=\"text-align: right;\">\n",
              "      <th></th>\n",
              "      <th>tweet_id</th>\n",
              "      <th>favorites</th>\n",
              "      <th>retweets</th>\n",
              "    </tr>\n",
              "  </thead>\n",
              "  <tbody>\n",
              "    <tr>\n",
              "      <th>0</th>\n",
              "      <td>892420643555336193</td>\n",
              "      <td>39467</td>\n",
              "      <td>8853</td>\n",
              "    </tr>\n",
              "    <tr>\n",
              "      <th>1</th>\n",
              "      <td>892177421306343426</td>\n",
              "      <td>33819</td>\n",
              "      <td>6514</td>\n",
              "    </tr>\n",
              "    <tr>\n",
              "      <th>2</th>\n",
              "      <td>891815181378084864</td>\n",
              "      <td>25461</td>\n",
              "      <td>4328</td>\n",
              "    </tr>\n",
              "    <tr>\n",
              "      <th>3</th>\n",
              "      <td>891689557279858688</td>\n",
              "      <td>42908</td>\n",
              "      <td>8964</td>\n",
              "    </tr>\n",
              "    <tr>\n",
              "      <th>4</th>\n",
              "      <td>891327558926688256</td>\n",
              "      <td>41048</td>\n",
              "      <td>9774</td>\n",
              "    </tr>\n",
              "  </tbody>\n",
              "</table>\n",
              "</div>"
            ],
            "text/plain": [
              "             tweet_id favorites retweets\n",
              "0  892420643555336193     39467     8853\n",
              "1  892177421306343426     33819     6514\n",
              "2  891815181378084864     25461     4328\n",
              "3  891689557279858688     42908     8964\n",
              "4  891327558926688256     41048     9774"
            ]
          },
          "metadata": {},
          "execution_count": 5
        }
      ]
    },
    {
      "cell_type": "markdown",
      "metadata": {
        "id": "xrF5FfQO-w7z"
      },
      "source": [
        "# **Assess**"
      ]
    },
    {
      "cell_type": "markdown",
      "metadata": {
        "id": "38hx1QIjEyPF"
      },
      "source": [
        "1-Twitter Archived Enhanced Data"
      ]
    },
    {
      "cell_type": "code",
      "metadata": {
        "colab": {
          "base_uri": "https://localhost:8080/"
        },
        "id": "i7faGFB1-zmc",
        "outputId": "b6361780-c882-4a05-f1b9-5b361aea763b"
      },
      "source": [
        "df_archive.info() # get the info "
      ],
      "execution_count": 6,
      "outputs": [
        {
          "output_type": "stream",
          "text": [
            "<class 'pandas.core.frame.DataFrame'>\n",
            "RangeIndex: 2356 entries, 0 to 2355\n",
            "Data columns (total 17 columns):\n",
            " #   Column                      Non-Null Count  Dtype  \n",
            "---  ------                      --------------  -----  \n",
            " 0   tweet_id                    2356 non-null   int64  \n",
            " 1   in_reply_to_status_id       78 non-null     float64\n",
            " 2   in_reply_to_user_id         78 non-null     float64\n",
            " 3   timestamp                   2356 non-null   object \n",
            " 4   source                      2356 non-null   object \n",
            " 5   text                        2356 non-null   object \n",
            " 6   retweeted_status_id         181 non-null    float64\n",
            " 7   retweeted_status_user_id    181 non-null    float64\n",
            " 8   retweeted_status_timestamp  181 non-null    object \n",
            " 9   expanded_urls               2297 non-null   object \n",
            " 10  rating_numerator            2356 non-null   int64  \n",
            " 11  rating_denominator          2356 non-null   int64  \n",
            " 12  name                        2356 non-null   object \n",
            " 13  doggo                       2356 non-null   object \n",
            " 14  floofer                     2356 non-null   object \n",
            " 15  pupper                      2356 non-null   object \n",
            " 16  puppo                       2356 non-null   object \n",
            "dtypes: float64(4), int64(3), object(10)\n",
            "memory usage: 313.0+ KB\n"
          ],
          "name": "stdout"
        }
      ]
    },
    {
      "cell_type": "code",
      "metadata": {
        "colab": {
          "base_uri": "https://localhost:8080/",
          "height": 311
        },
        "id": "81vLH6d4FFqk",
        "outputId": "9ae9742f-c8db-4f32-a5d2-cfd8b5c1cb97"
      },
      "source": [
        "df_archive.describe() # Take an overview  "
      ],
      "execution_count": 7,
      "outputs": [
        {
          "output_type": "execute_result",
          "data": {
            "text/html": [
              "<div>\n",
              "<style scoped>\n",
              "    .dataframe tbody tr th:only-of-type {\n",
              "        vertical-align: middle;\n",
              "    }\n",
              "\n",
              "    .dataframe tbody tr th {\n",
              "        vertical-align: top;\n",
              "    }\n",
              "\n",
              "    .dataframe thead th {\n",
              "        text-align: right;\n",
              "    }\n",
              "</style>\n",
              "<table border=\"1\" class=\"dataframe\">\n",
              "  <thead>\n",
              "    <tr style=\"text-align: right;\">\n",
              "      <th></th>\n",
              "      <th>tweet_id</th>\n",
              "      <th>in_reply_to_status_id</th>\n",
              "      <th>in_reply_to_user_id</th>\n",
              "      <th>retweeted_status_id</th>\n",
              "      <th>retweeted_status_user_id</th>\n",
              "      <th>rating_numerator</th>\n",
              "      <th>rating_denominator</th>\n",
              "    </tr>\n",
              "  </thead>\n",
              "  <tbody>\n",
              "    <tr>\n",
              "      <th>count</th>\n",
              "      <td>2.356000e+03</td>\n",
              "      <td>7.800000e+01</td>\n",
              "      <td>7.800000e+01</td>\n",
              "      <td>1.810000e+02</td>\n",
              "      <td>1.810000e+02</td>\n",
              "      <td>2356.000000</td>\n",
              "      <td>2356.000000</td>\n",
              "    </tr>\n",
              "    <tr>\n",
              "      <th>mean</th>\n",
              "      <td>7.427716e+17</td>\n",
              "      <td>7.455079e+17</td>\n",
              "      <td>2.014171e+16</td>\n",
              "      <td>7.720400e+17</td>\n",
              "      <td>1.241698e+16</td>\n",
              "      <td>13.126486</td>\n",
              "      <td>10.455433</td>\n",
              "    </tr>\n",
              "    <tr>\n",
              "      <th>std</th>\n",
              "      <td>6.856705e+16</td>\n",
              "      <td>7.582492e+16</td>\n",
              "      <td>1.252797e+17</td>\n",
              "      <td>6.236928e+16</td>\n",
              "      <td>9.599254e+16</td>\n",
              "      <td>45.876648</td>\n",
              "      <td>6.745237</td>\n",
              "    </tr>\n",
              "    <tr>\n",
              "      <th>min</th>\n",
              "      <td>6.660209e+17</td>\n",
              "      <td>6.658147e+17</td>\n",
              "      <td>1.185634e+07</td>\n",
              "      <td>6.661041e+17</td>\n",
              "      <td>7.832140e+05</td>\n",
              "      <td>0.000000</td>\n",
              "      <td>0.000000</td>\n",
              "    </tr>\n",
              "    <tr>\n",
              "      <th>25%</th>\n",
              "      <td>6.783989e+17</td>\n",
              "      <td>6.757419e+17</td>\n",
              "      <td>3.086374e+08</td>\n",
              "      <td>7.186315e+17</td>\n",
              "      <td>4.196984e+09</td>\n",
              "      <td>10.000000</td>\n",
              "      <td>10.000000</td>\n",
              "    </tr>\n",
              "    <tr>\n",
              "      <th>50%</th>\n",
              "      <td>7.196279e+17</td>\n",
              "      <td>7.038708e+17</td>\n",
              "      <td>4.196984e+09</td>\n",
              "      <td>7.804657e+17</td>\n",
              "      <td>4.196984e+09</td>\n",
              "      <td>11.000000</td>\n",
              "      <td>10.000000</td>\n",
              "    </tr>\n",
              "    <tr>\n",
              "      <th>75%</th>\n",
              "      <td>7.993373e+17</td>\n",
              "      <td>8.257804e+17</td>\n",
              "      <td>4.196984e+09</td>\n",
              "      <td>8.203146e+17</td>\n",
              "      <td>4.196984e+09</td>\n",
              "      <td>12.000000</td>\n",
              "      <td>10.000000</td>\n",
              "    </tr>\n",
              "    <tr>\n",
              "      <th>max</th>\n",
              "      <td>8.924206e+17</td>\n",
              "      <td>8.862664e+17</td>\n",
              "      <td>8.405479e+17</td>\n",
              "      <td>8.874740e+17</td>\n",
              "      <td>7.874618e+17</td>\n",
              "      <td>1776.000000</td>\n",
              "      <td>170.000000</td>\n",
              "    </tr>\n",
              "  </tbody>\n",
              "</table>\n",
              "</div>"
            ],
            "text/plain": [
              "           tweet_id  ...  rating_denominator\n",
              "count  2.356000e+03  ...         2356.000000\n",
              "mean   7.427716e+17  ...           10.455433\n",
              "std    6.856705e+16  ...            6.745237\n",
              "min    6.660209e+17  ...            0.000000\n",
              "25%    6.783989e+17  ...           10.000000\n",
              "50%    7.196279e+17  ...           10.000000\n",
              "75%    7.993373e+17  ...           10.000000\n",
              "max    8.924206e+17  ...          170.000000\n",
              "\n",
              "[8 rows x 7 columns]"
            ]
          },
          "metadata": {},
          "execution_count": 7
        }
      ]
    },
    {
      "cell_type": "code",
      "metadata": {
        "colab": {
          "base_uri": "https://localhost:8080/"
        },
        "id": "cE8nP9xmFBHI",
        "outputId": "8a9d378e-2655-4e8b-f484-07bfab375175"
      },
      "source": [
        "print(\"sum of duplicated \",df_archive.tweet_id.duplicated().sum())\n",
        "print(\"sum of null in rating_numerator \",sum(df_archive.rating_numerator.isnull()))\n",
        "print(\"sum of null in rating_denominator \",sum(df_archive.rating_denominator.isnull()))"
      ],
      "execution_count": 8,
      "outputs": [
        {
          "output_type": "stream",
          "text": [
            "sum of duplicated  0\n",
            "sum of null in rating_numerator  0\n",
            "sum of null in rating_denominator  0\n"
          ],
          "name": "stdout"
        }
      ]
    },
    {
      "cell_type": "code",
      "metadata": {
        "colab": {
          "base_uri": "https://localhost:8080/",
          "height": 632
        },
        "id": "8uyq6cWXFBVd",
        "outputId": "94db3023-7e67-4662-8bb5-21bda40b1830"
      },
      "source": [
        "df_archive.sample(5)"
      ],
      "execution_count": 9,
      "outputs": [
        {
          "output_type": "execute_result",
          "data": {
            "text/html": [
              "<div>\n",
              "<style scoped>\n",
              "    .dataframe tbody tr th:only-of-type {\n",
              "        vertical-align: middle;\n",
              "    }\n",
              "\n",
              "    .dataframe tbody tr th {\n",
              "        vertical-align: top;\n",
              "    }\n",
              "\n",
              "    .dataframe thead th {\n",
              "        text-align: right;\n",
              "    }\n",
              "</style>\n",
              "<table border=\"1\" class=\"dataframe\">\n",
              "  <thead>\n",
              "    <tr style=\"text-align: right;\">\n",
              "      <th></th>\n",
              "      <th>tweet_id</th>\n",
              "      <th>in_reply_to_status_id</th>\n",
              "      <th>in_reply_to_user_id</th>\n",
              "      <th>timestamp</th>\n",
              "      <th>source</th>\n",
              "      <th>text</th>\n",
              "      <th>retweeted_status_id</th>\n",
              "      <th>retweeted_status_user_id</th>\n",
              "      <th>retweeted_status_timestamp</th>\n",
              "      <th>expanded_urls</th>\n",
              "      <th>rating_numerator</th>\n",
              "      <th>rating_denominator</th>\n",
              "      <th>name</th>\n",
              "      <th>doggo</th>\n",
              "      <th>floofer</th>\n",
              "      <th>pupper</th>\n",
              "      <th>puppo</th>\n",
              "    </tr>\n",
              "  </thead>\n",
              "  <tbody>\n",
              "    <tr>\n",
              "      <th>862</th>\n",
              "      <td>762699858130116608</td>\n",
              "      <td>NaN</td>\n",
              "      <td>NaN</td>\n",
              "      <td>2016-08-08 17:19:51 +0000</td>\n",
              "      <td>&lt;a href=\"http://twitter.com/download/iphone\" r...</td>\n",
              "      <td>This is Leela. She's a Fetty Woof. Lost eye wh...</td>\n",
              "      <td>NaN</td>\n",
              "      <td>NaN</td>\n",
              "      <td>NaN</td>\n",
              "      <td>https://twitter.com/dog_rates/status/762699858...</td>\n",
              "      <td>11</td>\n",
              "      <td>10</td>\n",
              "      <td>Leela</td>\n",
              "      <td>None</td>\n",
              "      <td>None</td>\n",
              "      <td>None</td>\n",
              "      <td>None</td>\n",
              "    </tr>\n",
              "    <tr>\n",
              "      <th>854</th>\n",
              "      <td>765222098633691136</td>\n",
              "      <td>NaN</td>\n",
              "      <td>NaN</td>\n",
              "      <td>2016-08-15 16:22:20 +0000</td>\n",
              "      <td>&lt;a href=\"http://twitter.com/download/iphone\" r...</td>\n",
              "      <td>This is Gromit. He's pupset because there's no...</td>\n",
              "      <td>NaN</td>\n",
              "      <td>NaN</td>\n",
              "      <td>NaN</td>\n",
              "      <td>https://twitter.com/dog_rates/status/765222098...</td>\n",
              "      <td>10</td>\n",
              "      <td>10</td>\n",
              "      <td>Gromit</td>\n",
              "      <td>None</td>\n",
              "      <td>None</td>\n",
              "      <td>None</td>\n",
              "      <td>None</td>\n",
              "    </tr>\n",
              "    <tr>\n",
              "      <th>1816</th>\n",
              "      <td>676606785097199616</td>\n",
              "      <td>NaN</td>\n",
              "      <td>NaN</td>\n",
              "      <td>2015-12-15 03:36:42 +0000</td>\n",
              "      <td>&lt;a href=\"http://twitter.com/download/iphone\" r...</td>\n",
              "      <td>*screeches for a sec and then faints* 12/10 ht...</td>\n",
              "      <td>NaN</td>\n",
              "      <td>NaN</td>\n",
              "      <td>NaN</td>\n",
              "      <td>https://twitter.com/dog_rates/status/676606785...</td>\n",
              "      <td>12</td>\n",
              "      <td>10</td>\n",
              "      <td>None</td>\n",
              "      <td>None</td>\n",
              "      <td>None</td>\n",
              "      <td>None</td>\n",
              "      <td>None</td>\n",
              "    </tr>\n",
              "    <tr>\n",
              "      <th>1633</th>\n",
              "      <td>684241637099323392</td>\n",
              "      <td>NaN</td>\n",
              "      <td>NaN</td>\n",
              "      <td>2016-01-05 05:14:53 +0000</td>\n",
              "      <td>&lt;a href=\"http://twitter.com/download/iphone\" r...</td>\n",
              "      <td>This is Obi. He got camera shy. 12/10 https://...</td>\n",
              "      <td>NaN</td>\n",
              "      <td>NaN</td>\n",
              "      <td>NaN</td>\n",
              "      <td>https://twitter.com/dog_rates/status/684241637...</td>\n",
              "      <td>12</td>\n",
              "      <td>10</td>\n",
              "      <td>Obi</td>\n",
              "      <td>None</td>\n",
              "      <td>None</td>\n",
              "      <td>None</td>\n",
              "      <td>None</td>\n",
              "    </tr>\n",
              "    <tr>\n",
              "      <th>1150</th>\n",
              "      <td>726224900189511680</td>\n",
              "      <td>NaN</td>\n",
              "      <td>NaN</td>\n",
              "      <td>2016-04-30 01:41:23 +0000</td>\n",
              "      <td>&lt;a href=\"http://twitter.com/download/iphone\" r...</td>\n",
              "      <td>I'm getting super heckin frustrated with you a...</td>\n",
              "      <td>NaN</td>\n",
              "      <td>NaN</td>\n",
              "      <td>NaN</td>\n",
              "      <td>https://twitter.com/dog_rates/status/726224900...</td>\n",
              "      <td>9</td>\n",
              "      <td>10</td>\n",
              "      <td>None</td>\n",
              "      <td>None</td>\n",
              "      <td>None</td>\n",
              "      <td>None</td>\n",
              "      <td>None</td>\n",
              "    </tr>\n",
              "  </tbody>\n",
              "</table>\n",
              "</div>"
            ],
            "text/plain": [
              "                tweet_id  in_reply_to_status_id  ...  pupper puppo\n",
              "862   762699858130116608                    NaN  ...    None  None\n",
              "854   765222098633691136                    NaN  ...    None  None\n",
              "1816  676606785097199616                    NaN  ...    None  None\n",
              "1633  684241637099323392                    NaN  ...    None  None\n",
              "1150  726224900189511680                    NaN  ...    None  None\n",
              "\n",
              "[5 rows x 17 columns]"
            ]
          },
          "metadata": {},
          "execution_count": 9
        }
      ]
    },
    {
      "cell_type": "code",
      "metadata": {
        "colab": {
          "base_uri": "https://localhost:8080/"
        },
        "id": "1gtGa8TBFBfF",
        "outputId": "49026cc9-8c7e-4ccd-ae0c-0cc1edda98a8"
      },
      "source": [
        "df_archive.name.sort_values() # very ? its not name "
      ],
      "execution_count": 10,
      "outputs": [
        {
          "output_type": "execute_result",
          "data": {
            "text/plain": [
              "1035     Abby\n",
              "1021     Abby\n",
              "938       Ace\n",
              "1933     Acro\n",
              "1327    Adele\n",
              "        ...  \n",
              "1031     very\n",
              "773      very\n",
              "1097     very\n",
              "819      very\n",
              "1385     very\n",
              "Name: name, Length: 2356, dtype: object"
            ]
          },
          "metadata": {},
          "execution_count": 10
        }
      ]
    },
    {
      "cell_type": "code",
      "metadata": {
        "colab": {
          "base_uri": "https://localhost:8080/"
        },
        "id": "oTEUzkq0FBkj",
        "outputId": "4ba2a495-79ab-4d39-eed8-1ed97d652fb6"
      },
      "source": [
        "df_archive['name'].value_counts() # none , a .. , it not name "
      ],
      "execution_count": 11,
      "outputs": [
        {
          "output_type": "execute_result",
          "data": {
            "text/plain": [
              "None       745\n",
              "a           55\n",
              "Charlie     12\n",
              "Oliver      11\n",
              "Cooper      11\n",
              "          ... \n",
              "Sparky       1\n",
              "Eleanor      1\n",
              "JD           1\n",
              "Furzey       1\n",
              "Combo        1\n",
              "Name: name, Length: 957, dtype: int64"
            ]
          },
          "metadata": {},
          "execution_count": 11
        }
      ]
    },
    {
      "cell_type": "code",
      "metadata": {
        "colab": {
          "base_uri": "https://localhost:8080/"
        },
        "id": "5P6OqdzPpB9F",
        "outputId": "1a899ee7-9efa-4983-eee0-a31c6d9fc53e"
      },
      "source": [
        "df_archive.rating_denominator.describe()  #there is  rating denominator values below 10 as the min =2 and std=7\n"
      ],
      "execution_count": 12,
      "outputs": [
        {
          "output_type": "execute_result",
          "data": {
            "text/plain": [
              "count    2356.000000\n",
              "mean       10.455433\n",
              "std         6.745237\n",
              "min         0.000000\n",
              "25%        10.000000\n",
              "50%        10.000000\n",
              "75%        10.000000\n",
              "max       170.000000\n",
              "Name: rating_denominator, dtype: float64"
            ]
          },
          "metadata": {},
          "execution_count": 12
        }
      ]
    },
    {
      "cell_type": "code",
      "metadata": {
        "colab": {
          "base_uri": "https://localhost:8080/"
        },
        "id": "y4qA_HEuFBq9",
        "outputId": "4dcebee4-df98-4b59-efce-046e663b6e97"
      },
      "source": [
        "df_archive.rating_numerator.sort_values() # rate \n"
      ],
      "execution_count": 13,
      "outputs": [
        {
          "output_type": "execute_result",
          "data": {
            "text/plain": [
              "315        0\n",
              "1016       0\n",
              "2335       1\n",
              "2261       1\n",
              "2338       1\n",
              "        ... \n",
              "2074     420\n",
              "188      420\n",
              "189      666\n",
              "313      960\n",
              "979     1776\n",
              "Name: rating_numerator, Length: 2356, dtype: int64"
            ]
          },
          "metadata": {},
          "execution_count": 13
        }
      ]
    },
    {
      "cell_type": "code",
      "metadata": {
        "colab": {
          "base_uri": "https://localhost:8080/",
          "height": 164
        },
        "id": "0U6RStZEFB6l",
        "outputId": "c441e445-78e5-49b4-c889-302f098ddef0"
      },
      "source": [
        "df_archive.query('rating_numerator ==960') #example"
      ],
      "execution_count": 14,
      "outputs": [
        {
          "output_type": "execute_result",
          "data": {
            "text/html": [
              "<div>\n",
              "<style scoped>\n",
              "    .dataframe tbody tr th:only-of-type {\n",
              "        vertical-align: middle;\n",
              "    }\n",
              "\n",
              "    .dataframe tbody tr th {\n",
              "        vertical-align: top;\n",
              "    }\n",
              "\n",
              "    .dataframe thead th {\n",
              "        text-align: right;\n",
              "    }\n",
              "</style>\n",
              "<table border=\"1\" class=\"dataframe\">\n",
              "  <thead>\n",
              "    <tr style=\"text-align: right;\">\n",
              "      <th></th>\n",
              "      <th>tweet_id</th>\n",
              "      <th>in_reply_to_status_id</th>\n",
              "      <th>in_reply_to_user_id</th>\n",
              "      <th>timestamp</th>\n",
              "      <th>source</th>\n",
              "      <th>text</th>\n",
              "      <th>retweeted_status_id</th>\n",
              "      <th>retweeted_status_user_id</th>\n",
              "      <th>retweeted_status_timestamp</th>\n",
              "      <th>expanded_urls</th>\n",
              "      <th>rating_numerator</th>\n",
              "      <th>rating_denominator</th>\n",
              "      <th>name</th>\n",
              "      <th>doggo</th>\n",
              "      <th>floofer</th>\n",
              "      <th>pupper</th>\n",
              "      <th>puppo</th>\n",
              "    </tr>\n",
              "  </thead>\n",
              "  <tbody>\n",
              "    <tr>\n",
              "      <th>313</th>\n",
              "      <td>835246439529840640</td>\n",
              "      <td>8.352460e+17</td>\n",
              "      <td>26259576.0</td>\n",
              "      <td>2017-02-24 21:54:03 +0000</td>\n",
              "      <td>&lt;a href=\"http://twitter.com/download/iphone\" r...</td>\n",
              "      <td>@jonnysun @Lin_Manuel ok jomny I know you're e...</td>\n",
              "      <td>NaN</td>\n",
              "      <td>NaN</td>\n",
              "      <td>NaN</td>\n",
              "      <td>NaN</td>\n",
              "      <td>960</td>\n",
              "      <td>0</td>\n",
              "      <td>None</td>\n",
              "      <td>None</td>\n",
              "      <td>None</td>\n",
              "      <td>None</td>\n",
              "      <td>None</td>\n",
              "    </tr>\n",
              "  </tbody>\n",
              "</table>\n",
              "</div>"
            ],
            "text/plain": [
              "               tweet_id  in_reply_to_status_id  ...  pupper puppo\n",
              "313  835246439529840640           8.352460e+17  ...    None  None\n",
              "\n",
              "[1 rows x 17 columns]"
            ]
          },
          "metadata": {},
          "execution_count": 14
        }
      ]
    },
    {
      "cell_type": "code",
      "metadata": {
        "colab": {
          "base_uri": "https://localhost:8080/",
          "height": 1000
        },
        "id": "gXLuFuHEHSXK",
        "outputId": "d10ac226-1a57-4a21-f081-9449f1160d7b"
      },
      "source": [
        "df_archive.query('rating_denominator <=10')"
      ],
      "execution_count": 15,
      "outputs": [
        {
          "output_type": "execute_result",
          "data": {
            "text/html": [
              "<div>\n",
              "<style scoped>\n",
              "    .dataframe tbody tr th:only-of-type {\n",
              "        vertical-align: middle;\n",
              "    }\n",
              "\n",
              "    .dataframe tbody tr th {\n",
              "        vertical-align: top;\n",
              "    }\n",
              "\n",
              "    .dataframe thead th {\n",
              "        text-align: right;\n",
              "    }\n",
              "</style>\n",
              "<table border=\"1\" class=\"dataframe\">\n",
              "  <thead>\n",
              "    <tr style=\"text-align: right;\">\n",
              "      <th></th>\n",
              "      <th>tweet_id</th>\n",
              "      <th>in_reply_to_status_id</th>\n",
              "      <th>in_reply_to_user_id</th>\n",
              "      <th>timestamp</th>\n",
              "      <th>source</th>\n",
              "      <th>text</th>\n",
              "      <th>retweeted_status_id</th>\n",
              "      <th>retweeted_status_user_id</th>\n",
              "      <th>retweeted_status_timestamp</th>\n",
              "      <th>expanded_urls</th>\n",
              "      <th>rating_numerator</th>\n",
              "      <th>rating_denominator</th>\n",
              "      <th>name</th>\n",
              "      <th>doggo</th>\n",
              "      <th>floofer</th>\n",
              "      <th>pupper</th>\n",
              "      <th>puppo</th>\n",
              "    </tr>\n",
              "  </thead>\n",
              "  <tbody>\n",
              "    <tr>\n",
              "      <th>0</th>\n",
              "      <td>892420643555336193</td>\n",
              "      <td>NaN</td>\n",
              "      <td>NaN</td>\n",
              "      <td>2017-08-01 16:23:56 +0000</td>\n",
              "      <td>&lt;a href=\"http://twitter.com/download/iphone\" r...</td>\n",
              "      <td>This is Phineas. He's a mystical boy. Only eve...</td>\n",
              "      <td>NaN</td>\n",
              "      <td>NaN</td>\n",
              "      <td>NaN</td>\n",
              "      <td>https://twitter.com/dog_rates/status/892420643...</td>\n",
              "      <td>13</td>\n",
              "      <td>10</td>\n",
              "      <td>Phineas</td>\n",
              "      <td>None</td>\n",
              "      <td>None</td>\n",
              "      <td>None</td>\n",
              "      <td>None</td>\n",
              "    </tr>\n",
              "    <tr>\n",
              "      <th>1</th>\n",
              "      <td>892177421306343426</td>\n",
              "      <td>NaN</td>\n",
              "      <td>NaN</td>\n",
              "      <td>2017-08-01 00:17:27 +0000</td>\n",
              "      <td>&lt;a href=\"http://twitter.com/download/iphone\" r...</td>\n",
              "      <td>This is Tilly. She's just checking pup on you....</td>\n",
              "      <td>NaN</td>\n",
              "      <td>NaN</td>\n",
              "      <td>NaN</td>\n",
              "      <td>https://twitter.com/dog_rates/status/892177421...</td>\n",
              "      <td>13</td>\n",
              "      <td>10</td>\n",
              "      <td>Tilly</td>\n",
              "      <td>None</td>\n",
              "      <td>None</td>\n",
              "      <td>None</td>\n",
              "      <td>None</td>\n",
              "    </tr>\n",
              "    <tr>\n",
              "      <th>2</th>\n",
              "      <td>891815181378084864</td>\n",
              "      <td>NaN</td>\n",
              "      <td>NaN</td>\n",
              "      <td>2017-07-31 00:18:03 +0000</td>\n",
              "      <td>&lt;a href=\"http://twitter.com/download/iphone\" r...</td>\n",
              "      <td>This is Archie. He is a rare Norwegian Pouncin...</td>\n",
              "      <td>NaN</td>\n",
              "      <td>NaN</td>\n",
              "      <td>NaN</td>\n",
              "      <td>https://twitter.com/dog_rates/status/891815181...</td>\n",
              "      <td>12</td>\n",
              "      <td>10</td>\n",
              "      <td>Archie</td>\n",
              "      <td>None</td>\n",
              "      <td>None</td>\n",
              "      <td>None</td>\n",
              "      <td>None</td>\n",
              "    </tr>\n",
              "    <tr>\n",
              "      <th>3</th>\n",
              "      <td>891689557279858688</td>\n",
              "      <td>NaN</td>\n",
              "      <td>NaN</td>\n",
              "      <td>2017-07-30 15:58:51 +0000</td>\n",
              "      <td>&lt;a href=\"http://twitter.com/download/iphone\" r...</td>\n",
              "      <td>This is Darla. She commenced a snooze mid meal...</td>\n",
              "      <td>NaN</td>\n",
              "      <td>NaN</td>\n",
              "      <td>NaN</td>\n",
              "      <td>https://twitter.com/dog_rates/status/891689557...</td>\n",
              "      <td>13</td>\n",
              "      <td>10</td>\n",
              "      <td>Darla</td>\n",
              "      <td>None</td>\n",
              "      <td>None</td>\n",
              "      <td>None</td>\n",
              "      <td>None</td>\n",
              "    </tr>\n",
              "    <tr>\n",
              "      <th>4</th>\n",
              "      <td>891327558926688256</td>\n",
              "      <td>NaN</td>\n",
              "      <td>NaN</td>\n",
              "      <td>2017-07-29 16:00:24 +0000</td>\n",
              "      <td>&lt;a href=\"http://twitter.com/download/iphone\" r...</td>\n",
              "      <td>This is Franklin. He would like you to stop ca...</td>\n",
              "      <td>NaN</td>\n",
              "      <td>NaN</td>\n",
              "      <td>NaN</td>\n",
              "      <td>https://twitter.com/dog_rates/status/891327558...</td>\n",
              "      <td>12</td>\n",
              "      <td>10</td>\n",
              "      <td>Franklin</td>\n",
              "      <td>None</td>\n",
              "      <td>None</td>\n",
              "      <td>None</td>\n",
              "      <td>None</td>\n",
              "    </tr>\n",
              "    <tr>\n",
              "      <th>...</th>\n",
              "      <td>...</td>\n",
              "      <td>...</td>\n",
              "      <td>...</td>\n",
              "      <td>...</td>\n",
              "      <td>...</td>\n",
              "      <td>...</td>\n",
              "      <td>...</td>\n",
              "      <td>...</td>\n",
              "      <td>...</td>\n",
              "      <td>...</td>\n",
              "      <td>...</td>\n",
              "      <td>...</td>\n",
              "      <td>...</td>\n",
              "      <td>...</td>\n",
              "      <td>...</td>\n",
              "      <td>...</td>\n",
              "      <td>...</td>\n",
              "    </tr>\n",
              "    <tr>\n",
              "      <th>2351</th>\n",
              "      <td>666049248165822465</td>\n",
              "      <td>NaN</td>\n",
              "      <td>NaN</td>\n",
              "      <td>2015-11-16 00:24:50 +0000</td>\n",
              "      <td>&lt;a href=\"http://twitter.com/download/iphone\" r...</td>\n",
              "      <td>Here we have a 1949 1st generation vulpix. Enj...</td>\n",
              "      <td>NaN</td>\n",
              "      <td>NaN</td>\n",
              "      <td>NaN</td>\n",
              "      <td>https://twitter.com/dog_rates/status/666049248...</td>\n",
              "      <td>5</td>\n",
              "      <td>10</td>\n",
              "      <td>None</td>\n",
              "      <td>None</td>\n",
              "      <td>None</td>\n",
              "      <td>None</td>\n",
              "      <td>None</td>\n",
              "    </tr>\n",
              "    <tr>\n",
              "      <th>2352</th>\n",
              "      <td>666044226329800704</td>\n",
              "      <td>NaN</td>\n",
              "      <td>NaN</td>\n",
              "      <td>2015-11-16 00:04:52 +0000</td>\n",
              "      <td>&lt;a href=\"http://twitter.com/download/iphone\" r...</td>\n",
              "      <td>This is a purebred Piers Morgan. Loves to Netf...</td>\n",
              "      <td>NaN</td>\n",
              "      <td>NaN</td>\n",
              "      <td>NaN</td>\n",
              "      <td>https://twitter.com/dog_rates/status/666044226...</td>\n",
              "      <td>6</td>\n",
              "      <td>10</td>\n",
              "      <td>a</td>\n",
              "      <td>None</td>\n",
              "      <td>None</td>\n",
              "      <td>None</td>\n",
              "      <td>None</td>\n",
              "    </tr>\n",
              "    <tr>\n",
              "      <th>2353</th>\n",
              "      <td>666033412701032449</td>\n",
              "      <td>NaN</td>\n",
              "      <td>NaN</td>\n",
              "      <td>2015-11-15 23:21:54 +0000</td>\n",
              "      <td>&lt;a href=\"http://twitter.com/download/iphone\" r...</td>\n",
              "      <td>Here is a very happy pup. Big fan of well-main...</td>\n",
              "      <td>NaN</td>\n",
              "      <td>NaN</td>\n",
              "      <td>NaN</td>\n",
              "      <td>https://twitter.com/dog_rates/status/666033412...</td>\n",
              "      <td>9</td>\n",
              "      <td>10</td>\n",
              "      <td>a</td>\n",
              "      <td>None</td>\n",
              "      <td>None</td>\n",
              "      <td>None</td>\n",
              "      <td>None</td>\n",
              "    </tr>\n",
              "    <tr>\n",
              "      <th>2354</th>\n",
              "      <td>666029285002620928</td>\n",
              "      <td>NaN</td>\n",
              "      <td>NaN</td>\n",
              "      <td>2015-11-15 23:05:30 +0000</td>\n",
              "      <td>&lt;a href=\"http://twitter.com/download/iphone\" r...</td>\n",
              "      <td>This is a western brown Mitsubishi terrier. Up...</td>\n",
              "      <td>NaN</td>\n",
              "      <td>NaN</td>\n",
              "      <td>NaN</td>\n",
              "      <td>https://twitter.com/dog_rates/status/666029285...</td>\n",
              "      <td>7</td>\n",
              "      <td>10</td>\n",
              "      <td>a</td>\n",
              "      <td>None</td>\n",
              "      <td>None</td>\n",
              "      <td>None</td>\n",
              "      <td>None</td>\n",
              "    </tr>\n",
              "    <tr>\n",
              "      <th>2355</th>\n",
              "      <td>666020888022790149</td>\n",
              "      <td>NaN</td>\n",
              "      <td>NaN</td>\n",
              "      <td>2015-11-15 22:32:08 +0000</td>\n",
              "      <td>&lt;a href=\"http://twitter.com/download/iphone\" r...</td>\n",
              "      <td>Here we have a Japanese Irish Setter. Lost eye...</td>\n",
              "      <td>NaN</td>\n",
              "      <td>NaN</td>\n",
              "      <td>NaN</td>\n",
              "      <td>https://twitter.com/dog_rates/status/666020888...</td>\n",
              "      <td>8</td>\n",
              "      <td>10</td>\n",
              "      <td>None</td>\n",
              "      <td>None</td>\n",
              "      <td>None</td>\n",
              "      <td>None</td>\n",
              "      <td>None</td>\n",
              "    </tr>\n",
              "  </tbody>\n",
              "</table>\n",
              "<p>2336 rows × 17 columns</p>\n",
              "</div>"
            ],
            "text/plain": [
              "                tweet_id  in_reply_to_status_id  ...  pupper puppo\n",
              "0     892420643555336193                    NaN  ...    None  None\n",
              "1     892177421306343426                    NaN  ...    None  None\n",
              "2     891815181378084864                    NaN  ...    None  None\n",
              "3     891689557279858688                    NaN  ...    None  None\n",
              "4     891327558926688256                    NaN  ...    None  None\n",
              "...                  ...                    ...  ...     ...   ...\n",
              "2351  666049248165822465                    NaN  ...    None  None\n",
              "2352  666044226329800704                    NaN  ...    None  None\n",
              "2353  666033412701032449                    NaN  ...    None  None\n",
              "2354  666029285002620928                    NaN  ...    None  None\n",
              "2355  666020888022790149                    NaN  ...    None  None\n",
              "\n",
              "[2336 rows x 17 columns]"
            ]
          },
          "metadata": {},
          "execution_count": 15
        }
      ]
    },
    {
      "cell_type": "markdown",
      "metadata": {
        "id": "8TMj4u2eFHqQ"
      },
      "source": [
        "2- Image Predictions"
      ]
    },
    {
      "cell_type": "code",
      "metadata": {
        "colab": {
          "base_uri": "https://localhost:8080/"
        },
        "id": "GTstHy9t_GFG",
        "outputId": "72814579-ee40-46ec-9490-9b50538da449"
      },
      "source": [
        "df_image.info()# get the info "
      ],
      "execution_count": 16,
      "outputs": [
        {
          "output_type": "stream",
          "text": [
            "<class 'pandas.core.frame.DataFrame'>\n",
            "RangeIndex: 2075 entries, 0 to 2074\n",
            "Data columns (total 12 columns):\n",
            " #   Column    Non-Null Count  Dtype  \n",
            "---  ------    --------------  -----  \n",
            " 0   tweet_id  2075 non-null   int64  \n",
            " 1   jpg_url   2075 non-null   object \n",
            " 2   img_num   2075 non-null   int64  \n",
            " 3   p1        2075 non-null   object \n",
            " 4   p1_conf   2075 non-null   float64\n",
            " 5   p1_dog    2075 non-null   bool   \n",
            " 6   p2        2075 non-null   object \n",
            " 7   p2_conf   2075 non-null   float64\n",
            " 8   p2_dog    2075 non-null   bool   \n",
            " 9   p3        2075 non-null   object \n",
            " 10  p3_conf   2075 non-null   float64\n",
            " 11  p3_dog    2075 non-null   bool   \n",
            "dtypes: bool(3), float64(3), int64(2), object(4)\n",
            "memory usage: 152.1+ KB\n"
          ],
          "name": "stdout"
        }
      ]
    },
    {
      "cell_type": "code",
      "metadata": {
        "colab": {
          "base_uri": "https://localhost:8080/",
          "height": 291
        },
        "id": "tkCMH8BDFQ6F",
        "outputId": "13b27b67-9db2-45ff-8bcb-5a36c5a7ffa6"
      },
      "source": [
        "df_image.describe() # Take an overview  "
      ],
      "execution_count": 17,
      "outputs": [
        {
          "output_type": "execute_result",
          "data": {
            "text/html": [
              "<div>\n",
              "<style scoped>\n",
              "    .dataframe tbody tr th:only-of-type {\n",
              "        vertical-align: middle;\n",
              "    }\n",
              "\n",
              "    .dataframe tbody tr th {\n",
              "        vertical-align: top;\n",
              "    }\n",
              "\n",
              "    .dataframe thead th {\n",
              "        text-align: right;\n",
              "    }\n",
              "</style>\n",
              "<table border=\"1\" class=\"dataframe\">\n",
              "  <thead>\n",
              "    <tr style=\"text-align: right;\">\n",
              "      <th></th>\n",
              "      <th>tweet_id</th>\n",
              "      <th>img_num</th>\n",
              "      <th>p1_conf</th>\n",
              "      <th>p2_conf</th>\n",
              "      <th>p3_conf</th>\n",
              "    </tr>\n",
              "  </thead>\n",
              "  <tbody>\n",
              "    <tr>\n",
              "      <th>count</th>\n",
              "      <td>2.075000e+03</td>\n",
              "      <td>2075.000000</td>\n",
              "      <td>2075.000000</td>\n",
              "      <td>2.075000e+03</td>\n",
              "      <td>2.075000e+03</td>\n",
              "    </tr>\n",
              "    <tr>\n",
              "      <th>mean</th>\n",
              "      <td>7.384514e+17</td>\n",
              "      <td>1.203855</td>\n",
              "      <td>0.594548</td>\n",
              "      <td>1.345886e-01</td>\n",
              "      <td>6.032417e-02</td>\n",
              "    </tr>\n",
              "    <tr>\n",
              "      <th>std</th>\n",
              "      <td>6.785203e+16</td>\n",
              "      <td>0.561875</td>\n",
              "      <td>0.271174</td>\n",
              "      <td>1.006657e-01</td>\n",
              "      <td>5.090593e-02</td>\n",
              "    </tr>\n",
              "    <tr>\n",
              "      <th>min</th>\n",
              "      <td>6.660209e+17</td>\n",
              "      <td>1.000000</td>\n",
              "      <td>0.044333</td>\n",
              "      <td>1.011300e-08</td>\n",
              "      <td>1.740170e-10</td>\n",
              "    </tr>\n",
              "    <tr>\n",
              "      <th>25%</th>\n",
              "      <td>6.764835e+17</td>\n",
              "      <td>1.000000</td>\n",
              "      <td>0.364412</td>\n",
              "      <td>5.388625e-02</td>\n",
              "      <td>1.622240e-02</td>\n",
              "    </tr>\n",
              "    <tr>\n",
              "      <th>50%</th>\n",
              "      <td>7.119988e+17</td>\n",
              "      <td>1.000000</td>\n",
              "      <td>0.588230</td>\n",
              "      <td>1.181810e-01</td>\n",
              "      <td>4.944380e-02</td>\n",
              "    </tr>\n",
              "    <tr>\n",
              "      <th>75%</th>\n",
              "      <td>7.932034e+17</td>\n",
              "      <td>1.000000</td>\n",
              "      <td>0.843855</td>\n",
              "      <td>1.955655e-01</td>\n",
              "      <td>9.180755e-02</td>\n",
              "    </tr>\n",
              "    <tr>\n",
              "      <th>max</th>\n",
              "      <td>8.924206e+17</td>\n",
              "      <td>4.000000</td>\n",
              "      <td>1.000000</td>\n",
              "      <td>4.880140e-01</td>\n",
              "      <td>2.734190e-01</td>\n",
              "    </tr>\n",
              "  </tbody>\n",
              "</table>\n",
              "</div>"
            ],
            "text/plain": [
              "           tweet_id      img_num      p1_conf       p2_conf       p3_conf\n",
              "count  2.075000e+03  2075.000000  2075.000000  2.075000e+03  2.075000e+03\n",
              "mean   7.384514e+17     1.203855     0.594548  1.345886e-01  6.032417e-02\n",
              "std    6.785203e+16     0.561875     0.271174  1.006657e-01  5.090593e-02\n",
              "min    6.660209e+17     1.000000     0.044333  1.011300e-08  1.740170e-10\n",
              "25%    6.764835e+17     1.000000     0.364412  5.388625e-02  1.622240e-02\n",
              "50%    7.119988e+17     1.000000     0.588230  1.181810e-01  4.944380e-02\n",
              "75%    7.932034e+17     1.000000     0.843855  1.955655e-01  9.180755e-02\n",
              "max    8.924206e+17     4.000000     1.000000  4.880140e-01  2.734190e-01"
            ]
          },
          "metadata": {},
          "execution_count": 17
        }
      ]
    },
    {
      "cell_type": "markdown",
      "metadata": {
        "id": "cg6hehsBFRWO"
      },
      "source": [
        "3- Twitter api"
      ]
    },
    {
      "cell_type": "code",
      "metadata": {
        "colab": {
          "base_uri": "https://localhost:8080/"
        },
        "id": "rS4lPHaF_GMR",
        "outputId": "1fc98392-f9d0-496e-8107-fecd7f212a78"
      },
      "source": [
        "df_tweets_API.info() # get the info \n"
      ],
      "execution_count": 18,
      "outputs": [
        {
          "output_type": "stream",
          "text": [
            "<class 'pandas.core.frame.DataFrame'>\n",
            "RangeIndex: 2354 entries, 0 to 2353\n",
            "Data columns (total 3 columns):\n",
            " #   Column     Non-Null Count  Dtype \n",
            "---  ------     --------------  ----- \n",
            " 0   tweet_id   2354 non-null   object\n",
            " 1   favorites  2354 non-null   object\n",
            " 2   retweets   2354 non-null   object\n",
            "dtypes: object(3)\n",
            "memory usage: 55.3+ KB\n"
          ],
          "name": "stdout"
        }
      ]
    },
    {
      "cell_type": "code",
      "metadata": {
        "colab": {
          "base_uri": "https://localhost:8080/",
          "height": 170
        },
        "id": "_pJWMelWAIcH",
        "outputId": "9e8128b9-a2a2-4d27-9b4e-ff3339aff793"
      },
      "source": [
        "df_tweets_API.describe()# Take an overview  "
      ],
      "execution_count": 19,
      "outputs": [
        {
          "output_type": "execute_result",
          "data": {
            "text/html": [
              "<div>\n",
              "<style scoped>\n",
              "    .dataframe tbody tr th:only-of-type {\n",
              "        vertical-align: middle;\n",
              "    }\n",
              "\n",
              "    .dataframe tbody tr th {\n",
              "        vertical-align: top;\n",
              "    }\n",
              "\n",
              "    .dataframe thead th {\n",
              "        text-align: right;\n",
              "    }\n",
              "</style>\n",
              "<table border=\"1\" class=\"dataframe\">\n",
              "  <thead>\n",
              "    <tr style=\"text-align: right;\">\n",
              "      <th></th>\n",
              "      <th>tweet_id</th>\n",
              "      <th>favorites</th>\n",
              "      <th>retweets</th>\n",
              "    </tr>\n",
              "  </thead>\n",
              "  <tbody>\n",
              "    <tr>\n",
              "      <th>count</th>\n",
              "      <td>2354</td>\n",
              "      <td>2354</td>\n",
              "      <td>2354</td>\n",
              "    </tr>\n",
              "    <tr>\n",
              "      <th>unique</th>\n",
              "      <td>2354</td>\n",
              "      <td>2007</td>\n",
              "      <td>1724</td>\n",
              "    </tr>\n",
              "    <tr>\n",
              "      <th>top</th>\n",
              "      <td>667495797102141441</td>\n",
              "      <td>0</td>\n",
              "      <td>3652</td>\n",
              "    </tr>\n",
              "    <tr>\n",
              "      <th>freq</th>\n",
              "      <td>1</td>\n",
              "      <td>179</td>\n",
              "      <td>5</td>\n",
              "    </tr>\n",
              "  </tbody>\n",
              "</table>\n",
              "</div>"
            ],
            "text/plain": [
              "                  tweet_id  favorites  retweets\n",
              "count                 2354       2354      2354\n",
              "unique                2354       2007      1724\n",
              "top     667495797102141441          0      3652\n",
              "freq                     1        179         5"
            ]
          },
          "metadata": {},
          "execution_count": 19
        }
      ]
    },
    {
      "cell_type": "markdown",
      "metadata": {
        "id": "aGsZzFlhCyL0"
      },
      "source": [
        "# **Quality:**"
      ]
    },
    {
      "cell_type": "markdown",
      "metadata": {
        "id": "CwQ93u1_C1ej"
      },
      "source": [
        "**df_archive:**\n",
        "\n",
        "1-Change the timestamp's datatype from str to datetime.\n",
        "\n",
        "2- Convert the rating numerator and rating denominator datatypes to float.\n",
        "\n",
        "3- remove columns with too many missing values such as in_reply_to_status_id', 'in_reply_to_user_id', 'retweeted_status_user_id', 'retweeted_status_timestamp'.\n",
        "\n",
        "4-some dog’s name are weird , replace the unclear dog name with NaN\n",
        "\n",
        "5- Remove all rating denominator values below 10\n",
        "\n",
        "6- Make the source column's content more readable by cleaning it up.\n",
        "\n",
        "7--Delete retweets\n",
        "\n",
        "\n",
        "**df_image:**\n",
        "\n",
        "1-change the Datatype img_num Column to string\n",
        "\n",
        "\n",
        "\n",
        "\n",
        "**df_tweets_API:**\n",
        "\n",
        "1- convert  retweets, and favorites to int datatyp and convert tweet_id,to str datatype\n"
      ]
    },
    {
      "cell_type": "markdown",
      "metadata": {
        "id": "PoyK6yuoIXZC"
      },
      "source": [
        "# **Tidiness :**"
      ]
    },
    {
      "cell_type": "markdown",
      "metadata": {
        "id": "pDC8svyXImFd"
      },
      "source": [
        "1-Make a master data set out of three distinct dataframes.( df_archive, df_image, df_tweets_API)\n",
        "\n",
        "2- Create one column for the various dog types: doggo, floofer, pupper, puppo then remove the columns since there’s no need for it \n"
      ]
    },
    {
      "cell_type": "markdown",
      "metadata": {
        "id": "kGfceG7D5eYU"
      },
      "source": [
        "**The structured as following:**\n",
        "\n",
        "1- Make a master data set out of three distinct dataframes.( df_archive, df_image, df_tweets_API)\n",
        "\n",
        "2--Change the timestamp's datatype from str to datetime\n",
        "\n",
        "3- Convert the rating numerator and rating denominator datatypes to float.\n",
        "\n",
        "4- change the Datatype img_num Column to string\n",
        "\n",
        "5- convert  retweets, and favorites to int datatyp and convert tweet_id,to str datatype\n",
        "\n",
        "6- remove columns with too many missing values such as in_reply_to_status_id', 'in_reply_to_user_id', 'retweeted_status_user_id', 'retweeted_status_timestamp'\n",
        "\n",
        "7- some dog’s name are weird , replace the unclear dog name with nan\n",
        "\n",
        "8- Create one column for the various dog types: doggo, floofer, pupper, puppo then remove the columns since there’s no need for it\n",
        "\n",
        "9- Remove all rating denominator values below 10\n",
        "\n",
        "10- Make the source column's content more readable by cleaning it up.\n",
        "\n",
        "11-Delete retweets\n"
      ]
    },
    {
      "cell_type": "markdown",
      "metadata": {
        "id": "jSJAi-oJIYA4"
      },
      "source": [
        "# **Cleaning:**\n",
        "\n",
        "This section consists of the cleaning portion of the data wrangling process:\n",
        "\n",
        "*   Define\n",
        "*   Code\n",
        "* Test\n",
        "\n"
      ]
    },
    {
      "cell_type": "code",
      "metadata": {
        "id": "FNCA_0keQ2Cd"
      },
      "source": [
        "#copy dataframes\n",
        "archive = df_archive.copy()\n",
        "image = df_image.copy()\n",
        "API = df_tweets_API.copy()"
      ],
      "execution_count": 20,
      "outputs": []
    },
    {
      "cell_type": "markdown",
      "metadata": {
        "id": "m3c9sxAMQgKh"
      },
      "source": [
        " **Define**\n",
        "\n",
        "instead of three tables, there should be one master table. As a result, I'm combining the three dataframes into one. Then we'll just have to clean and process one dataframe."
      ]
    },
    {
      "cell_type": "markdown",
      "metadata": {
        "id": "PXehQw3fQsc8"
      },
      "source": [
        "**Code:**"
      ]
    },
    {
      "cell_type": "code",
      "metadata": {
        "id": "kHQIjDmzPc_k"
      },
      "source": [
        "df= pd.merge(left=archive,right=API, left_on='tweet_id', right_on='tweet_id', how='inner')\n",
        "df = df.merge(image, on='tweet_id', how='inner')"
      ],
      "execution_count": 21,
      "outputs": []
    },
    {
      "cell_type": "markdown",
      "metadata": {
        "id": "_6NE1c7GP_R-"
      },
      "source": [
        "**Test:**"
      ]
    },
    {
      "cell_type": "code",
      "metadata": {
        "colab": {
          "base_uri": "https://localhost:8080/"
        },
        "id": "bqf512zTQAJE",
        "outputId": "d54c6646-9445-446e-aa35-54ec420dcd4d"
      },
      "source": [
        "df.info()"
      ],
      "execution_count": 22,
      "outputs": [
        {
          "output_type": "stream",
          "text": [
            "<class 'pandas.core.frame.DataFrame'>\n",
            "Int64Index: 2073 entries, 0 to 2072\n",
            "Data columns (total 30 columns):\n",
            " #   Column                      Non-Null Count  Dtype  \n",
            "---  ------                      --------------  -----  \n",
            " 0   tweet_id                    2073 non-null   object \n",
            " 1   in_reply_to_status_id       23 non-null     float64\n",
            " 2   in_reply_to_user_id         23 non-null     float64\n",
            " 3   timestamp                   2073 non-null   object \n",
            " 4   source                      2073 non-null   object \n",
            " 5   text                        2073 non-null   object \n",
            " 6   retweeted_status_id         79 non-null     float64\n",
            " 7   retweeted_status_user_id    79 non-null     float64\n",
            " 8   retweeted_status_timestamp  79 non-null     object \n",
            " 9   expanded_urls               2073 non-null   object \n",
            " 10  rating_numerator            2073 non-null   int64  \n",
            " 11  rating_denominator          2073 non-null   int64  \n",
            " 12  name                        2073 non-null   object \n",
            " 13  doggo                       2073 non-null   object \n",
            " 14  floofer                     2073 non-null   object \n",
            " 15  pupper                      2073 non-null   object \n",
            " 16  puppo                       2073 non-null   object \n",
            " 17  favorites                   2073 non-null   object \n",
            " 18  retweets                    2073 non-null   object \n",
            " 19  jpg_url                     2073 non-null   object \n",
            " 20  img_num                     2073 non-null   int64  \n",
            " 21  p1                          2073 non-null   object \n",
            " 22  p1_conf                     2073 non-null   float64\n",
            " 23  p1_dog                      2073 non-null   bool   \n",
            " 24  p2                          2073 non-null   object \n",
            " 25  p2_conf                     2073 non-null   float64\n",
            " 26  p2_dog                      2073 non-null   bool   \n",
            " 27  p3                          2073 non-null   object \n",
            " 28  p3_conf                     2073 non-null   float64\n",
            " 29  p3_dog                      2073 non-null   bool   \n",
            "dtypes: bool(3), float64(7), int64(3), object(17)\n",
            "memory usage: 459.5+ KB\n"
          ],
          "name": "stdout"
        }
      ]
    },
    {
      "cell_type": "code",
      "metadata": {
        "colab": {
          "base_uri": "https://localhost:8080/",
          "height": 68
        },
        "id": "SisVvFmVT3RT",
        "outputId": "b94c279b-d32c-4dc0-e9a3-c5eead454eb1"
      },
      "source": [
        "df[df.duplicated(['tweet_id'], keep=False)] #check for duplicated 'tweet_id' , after merge"
      ],
      "execution_count": 23,
      "outputs": [
        {
          "output_type": "execute_result",
          "data": {
            "text/html": [
              "<div>\n",
              "<style scoped>\n",
              "    .dataframe tbody tr th:only-of-type {\n",
              "        vertical-align: middle;\n",
              "    }\n",
              "\n",
              "    .dataframe tbody tr th {\n",
              "        vertical-align: top;\n",
              "    }\n",
              "\n",
              "    .dataframe thead th {\n",
              "        text-align: right;\n",
              "    }\n",
              "</style>\n",
              "<table border=\"1\" class=\"dataframe\">\n",
              "  <thead>\n",
              "    <tr style=\"text-align: right;\">\n",
              "      <th></th>\n",
              "      <th>tweet_id</th>\n",
              "      <th>in_reply_to_status_id</th>\n",
              "      <th>in_reply_to_user_id</th>\n",
              "      <th>timestamp</th>\n",
              "      <th>source</th>\n",
              "      <th>text</th>\n",
              "      <th>retweeted_status_id</th>\n",
              "      <th>retweeted_status_user_id</th>\n",
              "      <th>retweeted_status_timestamp</th>\n",
              "      <th>expanded_urls</th>\n",
              "      <th>rating_numerator</th>\n",
              "      <th>rating_denominator</th>\n",
              "      <th>name</th>\n",
              "      <th>doggo</th>\n",
              "      <th>floofer</th>\n",
              "      <th>pupper</th>\n",
              "      <th>puppo</th>\n",
              "      <th>favorites</th>\n",
              "      <th>retweets</th>\n",
              "      <th>jpg_url</th>\n",
              "      <th>img_num</th>\n",
              "      <th>p1</th>\n",
              "      <th>p1_conf</th>\n",
              "      <th>p1_dog</th>\n",
              "      <th>p2</th>\n",
              "      <th>p2_conf</th>\n",
              "      <th>p2_dog</th>\n",
              "      <th>p3</th>\n",
              "      <th>p3_conf</th>\n",
              "      <th>p3_dog</th>\n",
              "    </tr>\n",
              "  </thead>\n",
              "  <tbody>\n",
              "  </tbody>\n",
              "</table>\n",
              "</div>"
            ],
            "text/plain": [
              "Empty DataFrame\n",
              "Columns: [tweet_id, in_reply_to_status_id, in_reply_to_user_id, timestamp, source, text, retweeted_status_id, retweeted_status_user_id, retweeted_status_timestamp, expanded_urls, rating_numerator, rating_denominator, name, doggo, floofer, pupper, puppo, favorites, retweets, jpg_url, img_num, p1, p1_conf, p1_dog, p2, p2_conf, p2_dog, p3, p3_conf, p3_dog]\n",
              "Index: []"
            ]
          },
          "metadata": {},
          "execution_count": 23
        }
      ]
    },
    {
      "cell_type": "code",
      "metadata": {
        "colab": {
          "base_uri": "https://localhost:8080/",
          "height": 390
        },
        "id": "sBwquvawT9v3",
        "outputId": "11df4000-95ed-468c-aaee-ca6a77020e24"
      },
      "source": [
        "df.head(3)\n"
      ],
      "execution_count": 24,
      "outputs": [
        {
          "output_type": "execute_result",
          "data": {
            "text/html": [
              "<div>\n",
              "<style scoped>\n",
              "    .dataframe tbody tr th:only-of-type {\n",
              "        vertical-align: middle;\n",
              "    }\n",
              "\n",
              "    .dataframe tbody tr th {\n",
              "        vertical-align: top;\n",
              "    }\n",
              "\n",
              "    .dataframe thead th {\n",
              "        text-align: right;\n",
              "    }\n",
              "</style>\n",
              "<table border=\"1\" class=\"dataframe\">\n",
              "  <thead>\n",
              "    <tr style=\"text-align: right;\">\n",
              "      <th></th>\n",
              "      <th>tweet_id</th>\n",
              "      <th>in_reply_to_status_id</th>\n",
              "      <th>in_reply_to_user_id</th>\n",
              "      <th>timestamp</th>\n",
              "      <th>source</th>\n",
              "      <th>text</th>\n",
              "      <th>retweeted_status_id</th>\n",
              "      <th>retweeted_status_user_id</th>\n",
              "      <th>retweeted_status_timestamp</th>\n",
              "      <th>expanded_urls</th>\n",
              "      <th>rating_numerator</th>\n",
              "      <th>rating_denominator</th>\n",
              "      <th>name</th>\n",
              "      <th>doggo</th>\n",
              "      <th>floofer</th>\n",
              "      <th>pupper</th>\n",
              "      <th>puppo</th>\n",
              "      <th>favorites</th>\n",
              "      <th>retweets</th>\n",
              "      <th>jpg_url</th>\n",
              "      <th>img_num</th>\n",
              "      <th>p1</th>\n",
              "      <th>p1_conf</th>\n",
              "      <th>p1_dog</th>\n",
              "      <th>p2</th>\n",
              "      <th>p2_conf</th>\n",
              "      <th>p2_dog</th>\n",
              "      <th>p3</th>\n",
              "      <th>p3_conf</th>\n",
              "      <th>p3_dog</th>\n",
              "    </tr>\n",
              "  </thead>\n",
              "  <tbody>\n",
              "    <tr>\n",
              "      <th>0</th>\n",
              "      <td>892420643555336193</td>\n",
              "      <td>NaN</td>\n",
              "      <td>NaN</td>\n",
              "      <td>2017-08-01 16:23:56 +0000</td>\n",
              "      <td>&lt;a href=\"http://twitter.com/download/iphone\" r...</td>\n",
              "      <td>This is Phineas. He's a mystical boy. Only eve...</td>\n",
              "      <td>NaN</td>\n",
              "      <td>NaN</td>\n",
              "      <td>NaN</td>\n",
              "      <td>https://twitter.com/dog_rates/status/892420643...</td>\n",
              "      <td>13</td>\n",
              "      <td>10</td>\n",
              "      <td>Phineas</td>\n",
              "      <td>None</td>\n",
              "      <td>None</td>\n",
              "      <td>None</td>\n",
              "      <td>None</td>\n",
              "      <td>39467</td>\n",
              "      <td>8853</td>\n",
              "      <td>https://pbs.twimg.com/media/DGKD1-bXoAAIAUK.jpg</td>\n",
              "      <td>1</td>\n",
              "      <td>orange</td>\n",
              "      <td>0.097049</td>\n",
              "      <td>False</td>\n",
              "      <td>bagel</td>\n",
              "      <td>0.085851</td>\n",
              "      <td>False</td>\n",
              "      <td>banana</td>\n",
              "      <td>0.076110</td>\n",
              "      <td>False</td>\n",
              "    </tr>\n",
              "    <tr>\n",
              "      <th>1</th>\n",
              "      <td>892177421306343426</td>\n",
              "      <td>NaN</td>\n",
              "      <td>NaN</td>\n",
              "      <td>2017-08-01 00:17:27 +0000</td>\n",
              "      <td>&lt;a href=\"http://twitter.com/download/iphone\" r...</td>\n",
              "      <td>This is Tilly. She's just checking pup on you....</td>\n",
              "      <td>NaN</td>\n",
              "      <td>NaN</td>\n",
              "      <td>NaN</td>\n",
              "      <td>https://twitter.com/dog_rates/status/892177421...</td>\n",
              "      <td>13</td>\n",
              "      <td>10</td>\n",
              "      <td>Tilly</td>\n",
              "      <td>None</td>\n",
              "      <td>None</td>\n",
              "      <td>None</td>\n",
              "      <td>None</td>\n",
              "      <td>33819</td>\n",
              "      <td>6514</td>\n",
              "      <td>https://pbs.twimg.com/media/DGGmoV4XsAAUL6n.jpg</td>\n",
              "      <td>1</td>\n",
              "      <td>Chihuahua</td>\n",
              "      <td>0.323581</td>\n",
              "      <td>True</td>\n",
              "      <td>Pekinese</td>\n",
              "      <td>0.090647</td>\n",
              "      <td>True</td>\n",
              "      <td>papillon</td>\n",
              "      <td>0.068957</td>\n",
              "      <td>True</td>\n",
              "    </tr>\n",
              "    <tr>\n",
              "      <th>2</th>\n",
              "      <td>891815181378084864</td>\n",
              "      <td>NaN</td>\n",
              "      <td>NaN</td>\n",
              "      <td>2017-07-31 00:18:03 +0000</td>\n",
              "      <td>&lt;a href=\"http://twitter.com/download/iphone\" r...</td>\n",
              "      <td>This is Archie. He is a rare Norwegian Pouncin...</td>\n",
              "      <td>NaN</td>\n",
              "      <td>NaN</td>\n",
              "      <td>NaN</td>\n",
              "      <td>https://twitter.com/dog_rates/status/891815181...</td>\n",
              "      <td>12</td>\n",
              "      <td>10</td>\n",
              "      <td>Archie</td>\n",
              "      <td>None</td>\n",
              "      <td>None</td>\n",
              "      <td>None</td>\n",
              "      <td>None</td>\n",
              "      <td>25461</td>\n",
              "      <td>4328</td>\n",
              "      <td>https://pbs.twimg.com/media/DGBdLU1WsAANxJ9.jpg</td>\n",
              "      <td>1</td>\n",
              "      <td>Chihuahua</td>\n",
              "      <td>0.716012</td>\n",
              "      <td>True</td>\n",
              "      <td>malamute</td>\n",
              "      <td>0.078253</td>\n",
              "      <td>True</td>\n",
              "      <td>kelpie</td>\n",
              "      <td>0.031379</td>\n",
              "      <td>True</td>\n",
              "    </tr>\n",
              "  </tbody>\n",
              "</table>\n",
              "</div>"
            ],
            "text/plain": [
              "             tweet_id  in_reply_to_status_id  ...   p3_conf p3_dog\n",
              "0  892420643555336193                    NaN  ...  0.076110  False\n",
              "1  892177421306343426                    NaN  ...  0.068957   True\n",
              "2  891815181378084864                    NaN  ...  0.031379   True\n",
              "\n",
              "[3 rows x 30 columns]"
            ]
          },
          "metadata": {},
          "execution_count": 24
        }
      ]
    },
    {
      "cell_type": "markdown",
      "metadata": {
        "id": "zph9TEenRT85"
      },
      "source": [
        "**Define:**\n",
        "\n",
        "Change the timestamp's datatype from str to datetime"
      ]
    },
    {
      "cell_type": "markdown",
      "metadata": {
        "id": "mgNkg3qqRX22"
      },
      "source": [
        "**Code:**"
      ]
    },
    {
      "cell_type": "code",
      "metadata": {
        "id": "KU3ypIkWRawj"
      },
      "source": [
        "df['timestamp'] = pd.to_datetime(df['timestamp'])\n"
      ],
      "execution_count": 25,
      "outputs": []
    },
    {
      "cell_type": "markdown",
      "metadata": {
        "id": "vqMgJVFERbLW"
      },
      "source": [
        "**Test:**"
      ]
    },
    {
      "cell_type": "code",
      "metadata": {
        "colab": {
          "base_uri": "https://localhost:8080/"
        },
        "id": "Ym0SAQSIWmWr",
        "outputId": "85aba035-9ed5-4766-e6c2-371d752928e2"
      },
      "source": [
        "df.iloc[0,3],type(df.iloc[0,3])"
      ],
      "execution_count": 26,
      "outputs": [
        {
          "output_type": "execute_result",
          "data": {
            "text/plain": [
              "(Timestamp('2017-08-01 16:23:56+0000', tz='UTC'),\n",
              " pandas._libs.tslibs.timestamps.Timestamp)"
            ]
          },
          "metadata": {},
          "execution_count": 26
        }
      ]
    },
    {
      "cell_type": "markdown",
      "metadata": {
        "id": "-CdfSxN5W3JP"
      },
      "source": [
        "**Define:**\n",
        "\n",
        "Convert the rating numerator and rating denominator datatypes to float."
      ]
    },
    {
      "cell_type": "markdown",
      "metadata": {
        "id": "20J8W51RW3Yb"
      },
      "source": [
        "**Code**"
      ]
    },
    {
      "cell_type": "code",
      "metadata": {
        "colab": {
          "base_uri": "https://localhost:8080/"
        },
        "id": "X71yK5tbW3y9",
        "outputId": "628af542-64db-477f-9401-a7221271fefb"
      },
      "source": [
        "df.rating_numerator = df.rating_numerator.astype('float')\n",
        "df.rating_denominator = df.rating_denominator.astype('float')\n",
        "print(df.columns.get_loc(\"rating_numerator\"))\n",
        "print(df.columns.get_loc(\"rating_denominator\"))"
      ],
      "execution_count": 27,
      "outputs": [
        {
          "output_type": "stream",
          "text": [
            "10\n",
            "11\n"
          ],
          "name": "stdout"
        }
      ]
    },
    {
      "cell_type": "markdown",
      "metadata": {
        "id": "xGe6FmuoW4iW"
      },
      "source": [
        "**Test**"
      ]
    },
    {
      "cell_type": "code",
      "metadata": {
        "colab": {
          "base_uri": "https://localhost:8080/"
        },
        "id": "Z1GodqgKW4va",
        "outputId": "6e0d4d8c-2dae-49f1-e14c-496c6d4da7ff"
      },
      "source": [
        "print(type(df.iloc[0,10]))\n",
        "print(type(df.iloc[0,11]))"
      ],
      "execution_count": 28,
      "outputs": [
        {
          "output_type": "stream",
          "text": [
            "<class 'numpy.float64'>\n",
            "<class 'numpy.float64'>\n"
          ],
          "name": "stdout"
        }
      ]
    },
    {
      "cell_type": "markdown",
      "metadata": {
        "id": "2LPXp7PdnCqZ"
      },
      "source": [
        "**Define :**\n",
        "\n",
        "change the Datatype img_num Column to string"
      ]
    },
    {
      "cell_type": "markdown",
      "metadata": {
        "id": "XPuNo4N3nC8q"
      },
      "source": [
        "**Code:**"
      ]
    },
    {
      "cell_type": "code",
      "metadata": {
        "colab": {
          "base_uri": "https://localhost:8080/"
        },
        "id": "zW2LjvuvnDJ9",
        "outputId": "8ccc2063-8944-49ee-f079-10e20fa66605"
      },
      "source": [
        "df['img_num'] = df['img_num'].astype(str)\n",
        "df.columns.get_loc(\"img_num\")"
      ],
      "execution_count": 29,
      "outputs": [
        {
          "output_type": "execute_result",
          "data": {
            "text/plain": [
              "20"
            ]
          },
          "metadata": {},
          "execution_count": 29
        }
      ]
    },
    {
      "cell_type": "markdown",
      "metadata": {
        "id": "A34rtz_KnDX2"
      },
      "source": [
        "**Test:**"
      ]
    },
    {
      "cell_type": "code",
      "metadata": {
        "colab": {
          "base_uri": "https://localhost:8080/"
        },
        "id": "ZOr-XxXJnDmT",
        "outputId": "e6cd4601-6c3b-4ad4-e751-ab5353f4d887"
      },
      "source": [
        "type(df.iloc[0,20])"
      ],
      "execution_count": 30,
      "outputs": [
        {
          "output_type": "execute_result",
          "data": {
            "text/plain": [
              "str"
            ]
          },
          "metadata": {},
          "execution_count": 30
        }
      ]
    },
    {
      "cell_type": "markdown",
      "metadata": {
        "id": "evBx5c08X-eq"
      },
      "source": [
        "**Define**\n",
        "\n",
        "convert  retweets, and favorites to int datatyp and convert tweet_id,to str datatype"
      ]
    },
    {
      "cell_type": "markdown",
      "metadata": {
        "id": "_OrrRnMoX-1l"
      },
      "source": [
        "**Code**"
      ]
    },
    {
      "cell_type": "code",
      "metadata": {
        "id": "OjO4ACcGX_Po"
      },
      "source": [
        "df['tweet_id'] = df['tweet_id'].astype(str)\n",
        "df['favorites'] = df['favorites'].apply(pd.to_numeric, errors='coerce')\n",
        "df['retweets'] = df['retweets'].apply(pd.to_numeric, errors='coerce')"
      ],
      "execution_count": 31,
      "outputs": []
    },
    {
      "cell_type": "markdown",
      "metadata": {
        "id": "QMeu6uICX_mg"
      },
      "source": [
        "**Test:**"
      ]
    },
    {
      "cell_type": "code",
      "metadata": {
        "colab": {
          "base_uri": "https://localhost:8080/"
        },
        "id": "fHiH41QcX_zV",
        "outputId": "f211b95c-ce59-44df-fc11-11c04507aba7"
      },
      "source": [
        "print(type(df.iloc[0,0]))\n",
        "print(type(df.iloc[0,17]))\n",
        "print(type(df.iloc[0,18]))"
      ],
      "execution_count": 32,
      "outputs": [
        {
          "output_type": "stream",
          "text": [
            "<class 'str'>\n",
            "<class 'numpy.int64'>\n",
            "<class 'numpy.int64'>\n"
          ],
          "name": "stdout"
        }
      ]
    },
    {
      "cell_type": "markdown",
      "metadata": {
        "id": "YhbZfl-GZksh"
      },
      "source": [
        "**Define:**\n",
        "\n",
        "remove columns with too many missing values."
      ]
    },
    {
      "cell_type": "markdown",
      "metadata": {
        "id": "Jsg2clwWZk5D"
      },
      "source": [
        "**Code:**"
      ]
    },
    {
      "cell_type": "code",
      "metadata": {
        "id": "uVEsHnXSa3wr"
      },
      "source": [
        "#need to remove all rows that have values (not blank or non-null) in retweeted_status_id, retweeted_status_user_id, and retweeted_status_timestamp \n",
        "df = df[df.retweeted_status_id.isnull()]\n",
        "df = df[df.retweeted_status_user_id.isnull()]\n",
        "df = df[df.retweeted_status_timestamp.isnull()]"
      ],
      "execution_count": 33,
      "outputs": []
    },
    {
      "cell_type": "code",
      "metadata": {
        "id": "LKpBYXWSZlGi"
      },
      "source": [
        "df.drop(['in_reply_to_status_id', 'in_reply_to_user_id', 'retweeted_status_user_id', \n",
        "           'retweeted_status_timestamp'], axis=1, inplace=True)\n"
      ],
      "execution_count": 34,
      "outputs": []
    },
    {
      "cell_type": "markdown",
      "metadata": {
        "id": "RK6A4RYnZlSX"
      },
      "source": [
        "**Test:**"
      ]
    },
    {
      "cell_type": "code",
      "metadata": {
        "colab": {
          "base_uri": "https://localhost:8080/"
        },
        "id": "86wMy7gQZled",
        "outputId": "516ffa95-2046-446c-fa39-08f3f7cddeb5"
      },
      "source": [
        "df.info()"
      ],
      "execution_count": 35,
      "outputs": [
        {
          "output_type": "stream",
          "text": [
            "<class 'pandas.core.frame.DataFrame'>\n",
            "Int64Index: 1994 entries, 0 to 2072\n",
            "Data columns (total 26 columns):\n",
            " #   Column               Non-Null Count  Dtype              \n",
            "---  ------               --------------  -----              \n",
            " 0   tweet_id             1994 non-null   object             \n",
            " 1   timestamp            1994 non-null   datetime64[ns, UTC]\n",
            " 2   source               1994 non-null   object             \n",
            " 3   text                 1994 non-null   object             \n",
            " 4   retweeted_status_id  0 non-null      float64            \n",
            " 5   expanded_urls        1994 non-null   object             \n",
            " 6   rating_numerator     1994 non-null   float64            \n",
            " 7   rating_denominator   1994 non-null   float64            \n",
            " 8   name                 1994 non-null   object             \n",
            " 9   doggo                1994 non-null   object             \n",
            " 10  floofer              1994 non-null   object             \n",
            " 11  pupper               1994 non-null   object             \n",
            " 12  puppo                1994 non-null   object             \n",
            " 13  favorites            1994 non-null   int64              \n",
            " 14  retweets             1994 non-null   int64              \n",
            " 15  jpg_url              1994 non-null   object             \n",
            " 16  img_num              1994 non-null   object             \n",
            " 17  p1                   1994 non-null   object             \n",
            " 18  p1_conf              1994 non-null   float64            \n",
            " 19  p1_dog               1994 non-null   bool               \n",
            " 20  p2                   1994 non-null   object             \n",
            " 21  p2_conf              1994 non-null   float64            \n",
            " 22  p2_dog               1994 non-null   bool               \n",
            " 23  p3                   1994 non-null   object             \n",
            " 24  p3_conf              1994 non-null   float64            \n",
            " 25  p3_dog               1994 non-null   bool               \n",
            "dtypes: bool(3), datetime64[ns, UTC](1), float64(6), int64(2), object(14)\n",
            "memory usage: 379.7+ KB\n"
          ],
          "name": "stdout"
        }
      ]
    },
    {
      "cell_type": "markdown",
      "metadata": {
        "id": "VbDDCe6pbdkS"
      },
      "source": [
        "**Define:**\n",
        "\n",
        "some dog’s name are weird , replace the unclear dog name with NAN"
      ]
    },
    {
      "cell_type": "markdown",
      "metadata": {
        "id": "XgXLSUe1beJN"
      },
      "source": [
        "**Code:**"
      ]
    },
    {
      "cell_type": "code",
      "metadata": {
        "colab": {
          "base_uri": "https://localhost:8080/"
        },
        "id": "33PKTKXrbeXt",
        "outputId": "0b6e323a-3db6-498e-d3b8-52fbe5cc26cb"
      },
      "source": [
        "df['name'].unique() # get the unique name , and mannuly replace the unclear name with NAN"
      ],
      "execution_count": 36,
      "outputs": [
        {
          "output_type": "execute_result",
          "data": {
            "text/plain": [
              "array(['Phineas', 'Tilly', 'Archie', 'Darla', 'Franklin', 'None', 'Jax',\n",
              "       'Zoey', 'Cassie', 'Koda', 'Bruno', 'Ted', 'Stuart', 'Oliver',\n",
              "       'Jim', 'Zeke', 'Ralphus', 'Gerald', 'Jeffrey', 'such', 'Canela',\n",
              "       'Maya', 'Mingus', 'Derek', 'Roscoe', 'Waffles', 'Jimbo', 'Maisey',\n",
              "       'Earl', 'Lola', 'Kevin', 'Yogi', 'Noah', 'Bella', 'Grizzwald',\n",
              "       'Rusty', 'Gus', 'Stanley', 'Alfy', 'Koko', 'Rey', 'Gary', 'a',\n",
              "       'Elliot', 'Louis', 'Jesse', 'Romeo', 'Bailey', 'Duddles', 'Jack',\n",
              "       'Steven', 'Beau', 'Snoopy', 'Shadow', 'Emmy', 'Aja', 'Penny',\n",
              "       'Dante', 'Nelly', 'Ginger', 'Benedict', 'Venti', 'Goose', 'Nugget',\n",
              "       'Cash', 'Jed', 'Sebastian', 'Sierra', 'Monkey', 'Harry', 'Kody',\n",
              "       'Lassie', 'Rover', 'Napolean', 'Boomer', 'Cody', 'Rumble',\n",
              "       'Clifford', 'Dewey', 'Scout', 'Gizmo', 'Walter', 'Cooper',\n",
              "       'Harold', 'Shikha', 'Lili', 'Jamesy', 'Coco', 'Sammy', 'Meatball',\n",
              "       'Paisley', 'Albus', 'Neptune', 'Belle', 'Quinn', 'Zooey', 'Dave',\n",
              "       'Jersey', 'Hobbes', 'Burt', 'Lorenzo', 'Carl', 'Jordy', 'Milky',\n",
              "       'Trooper', 'quite', 'Sophie', 'Wyatt', 'Rosie', 'Thor', 'Oscar',\n",
              "       'Callie', 'Cermet', 'Marlee', 'Arya', 'Einstein', 'Alice',\n",
              "       'Rumpole', 'Benny', 'Aspen', 'Jarod', 'Wiggles', 'General',\n",
              "       'Sailor', 'Iggy', 'Snoop', 'Kyle', 'Leo', 'Riley', 'Noosh', 'Odin',\n",
              "       'Jerry', 'Georgie', 'Rontu', 'Cannon', 'Furzey', 'Daisy', 'Tuck',\n",
              "       'Barney', 'Vixen', 'Jarvis', 'Mimosa', 'Pickles', 'Brady', 'Luna',\n",
              "       'Charlie', 'Margo', 'Sadie', 'Hank', 'Tycho', 'Indie', 'Winnie',\n",
              "       'George', 'Bentley', 'Max', 'Dawn', 'Maddie', 'Monty', 'Sojourner',\n",
              "       'Winston', 'Odie', 'Arlo', 'Vincent', 'Lucy', 'Clark', 'Mookie',\n",
              "       'Meera', 'Ava', 'Eli', 'Ash', 'Tucker', 'Tobi', 'Chester',\n",
              "       'Wilson', 'Sunshine', 'Lipton', 'Bronte', 'Poppy', 'Gidget',\n",
              "       'Rhino', 'Willow', 'Orion', 'Eevee', 'Smiley', 'Miguel', 'Emanuel',\n",
              "       'Kuyu', 'Dutch', 'Pete', 'Scooter', 'Reggie', 'Lilly', 'Samson',\n",
              "       'Mia', 'Astrid', 'Malcolm', 'Dexter', 'Alfie', 'Fiona', 'one',\n",
              "       'Mutt', 'Bear', 'Doobert', 'Beebop', 'Alexander', 'Sailer',\n",
              "       'Brutus', 'Kona', 'Boots', 'Ralphie', 'Loki', 'Cupid', 'Pawnd',\n",
              "       'Pilot', 'Ike', 'Mo', 'Toby', 'Sweet', 'Pablo', 'Nala', 'Crawford',\n",
              "       'Gabe', 'Jimison', 'Duchess', 'Harlso', 'Sundance', 'Luca',\n",
              "       'Flash', 'Sunny', 'Howie', 'Jazzy', 'Anna', 'Finn', 'Bo', 'Wafer',\n",
              "       'Tom', 'Florence', 'Autumn', 'Buddy', 'Dido', 'Eugene', 'Ken',\n",
              "       'Strudel', 'Tebow', 'Chloe', 'Timber', 'Binky', 'Moose', 'Dudley',\n",
              "       'Comet', 'Akumi', 'Titan', 'Olivia', 'Alf', 'Oshie', 'Chubbs',\n",
              "       'Sky', 'Atlas', 'Eleanor', 'Layla', 'Rocky', 'Baron', 'Tyr',\n",
              "       'Bauer', 'Swagger', 'Brandi', 'Mary', 'Moe', 'Halo', 'Augie',\n",
              "       'Craig', 'Sam', 'Hunter', 'Pavlov', 'Phil', 'Kyro', 'Wallace',\n",
              "       'Ito', 'Ollie', 'Stephan', 'Lennon', 'incredibly', 'Major', 'Duke',\n",
              "       'Sansa', 'Shooter', 'Django', 'Diogi', 'Sonny', 'Marley',\n",
              "       'Severus', 'Ronnie', 'Milo', 'Bones', 'Mauve', 'Chef', 'Doc',\n",
              "       'Peaches', 'Sobe', 'Longfellow', 'Mister', 'Iroh', 'Pancake',\n",
              "       'Snicku', 'Ruby', 'Brody', 'Mack', 'Nimbus', 'Laika', 'Maximus',\n",
              "       'Dobby', 'Moreton', 'Juno', 'Maude', 'Lily', 'Newt', 'Benji',\n",
              "       'Nida', 'Robin', 'Monster', 'BeBe', 'Remus', 'Levi', 'Mabel',\n",
              "       'Misty', 'Betty', 'Mosby', 'Maggie', 'Bruce', 'Happy', 'Brownie',\n",
              "       'Rizzy', 'Stella', 'Butter', 'Frank', 'Tonks', 'Lincoln', 'Rory',\n",
              "       'Logan', 'Dale', 'Rizzo', 'Mattie', 'Pinot', 'Dallas', 'Hero',\n",
              "       'Frankie', 'Stormy', 'Mairi', 'Loomis', 'Godi', 'Cali', 'Deacon',\n",
              "       'Timmy', 'Sampson', 'Chipson', 'Oakley', 'Dash', 'Hercules', 'Jay',\n",
              "       'Mya', 'Strider', 'Wesley', 'Solomon', 'Huck', 'O', 'Blue',\n",
              "       'Anakin', 'Finley', 'Sprinkles', 'Heinrich', 'Shakespeare',\n",
              "       'Chelsea', 'Bungalo', 'Chip', 'Grey', 'Roosevelt', 'Willem',\n",
              "       'Davey', 'Dakota', 'Fizz', 'Dixie', 'very', 'Al', 'Jackson',\n",
              "       'Carbon', 'Klein', 'DonDon', 'Kirby', 'Lou', 'Chevy', 'Tito',\n",
              "       'Philbert', 'Louie', 'Rupert', 'Rufus', 'Brudge', 'Shadoe',\n",
              "       'Angel', 'Brat', 'Tove', 'my', 'Gromit', 'Aubie', 'Kota', 'Leela',\n",
              "       'Glenn', 'Shelby', 'Sephie', 'Bonaparte', 'Albert', 'Wishes',\n",
              "       'Rose', 'Theo', 'Rocco', 'Fido', 'Emma', 'Spencer', 'Lilli',\n",
              "       'Boston', 'Brandonald', 'Corey', 'Leonard', 'Beckham', 'Devón',\n",
              "       'Gert', 'Watson', 'Keith', 'Dex', 'Ace', 'Tayzie', 'Grizzie',\n",
              "       'Gilbert', 'Meyer', 'Arnie', 'Zoe', 'Stewie', 'Calvin', 'Lilah',\n",
              "       'Spanky', 'Jameson', 'Piper', 'Atticus', 'Blu', 'Dietrich', 'not',\n",
              "       'Divine', 'Tripp', 'his', 'Cora', 'Huxley', 'Bookstore', 'Abby',\n",
              "       'Shiloh', 'an', 'Gustav', 'Arlen', 'Percy', 'Lenox', 'Sugar',\n",
              "       'Harvey', 'Blanket', 'Geno', 'Stark', 'Beya', 'Kilo', 'Kayla',\n",
              "       'Maxaroni', 'Bell', 'Doug', 'Edmund', 'Aqua', 'Theodore', 'just',\n",
              "       'Baloo', 'Chase', 'getting', 'Nollie', 'Rorie', 'Simba', 'Charles',\n",
              "       'Bayley', 'Axel', 'Storkson', 'Remy', 'Chadrick', 'Kellogg',\n",
              "       'Buckley', 'Livvie', 'Terry', 'Hermione', 'Ralpher', 'Aldrick',\n",
              "       'Larry', 'this', 'unacceptable', 'Rooney', 'Crystal', 'Ziva',\n",
              "       'Stefan', 'Pupcasso', 'Puff', 'Flurpson', 'Coleman', 'Enchilada',\n",
              "       'Raymond', 'all', 'Rueben', 'Cilantro', 'Karll', 'Sprout', 'Blitz',\n",
              "       'Bloop', 'Colby', 'Lillie', 'Fred', 'Ashleigh', 'Kreggory',\n",
              "       'Sarge', 'Luther', 'Reginald', 'Ivar', 'Jangle', 'Schnitzel',\n",
              "       'Panda', 'Berkeley', 'Ralphé', 'Charleson', 'Clyde', 'Harnold',\n",
              "       'Sid', 'Pippa', 'Otis', 'Carper', 'Bowie', 'Alexanderson', 'Suki',\n",
              "       'Barclay', 'Ebby', 'Flávio', 'Smokey', 'Link', 'Jennifur',\n",
              "       'Bluebert', 'Stephanus', 'Bubbles', 'Zeus', 'Bertson', 'Nico',\n",
              "       'Michelangelope', 'Siba', 'Calbert', 'Curtis', 'Travis', 'Thumas',\n",
              "       'Kanu', 'Lance', 'Opie', 'Stubert', 'Kane', 'Olive', 'Chuckles',\n",
              "       'Staniel', 'Sora', 'Beemo', 'Gunner', 'infuriating', 'Lacy',\n",
              "       'Tater', 'Olaf', 'Cecil', 'Vince', 'Karma', 'Billy', 'Walker',\n",
              "       'Rodney', 'Klevin', 'Malikai', 'Bobble', 'River', 'Jebberson',\n",
              "       'Remington', 'Farfle', 'Jiminus', 'Harper', 'Keurig', 'Clarkus',\n",
              "       'Finnegus', 'Cupcake', 'Kathmandu', 'Ellie', 'Katie', 'Kara',\n",
              "       'Adele', 'Zara', 'Ambrose', 'Jimothy', 'Bode', 'Terrenth', 'Reese',\n",
              "       'Chesterson', 'Lucia', 'Bisquick', 'Ralphson', 'Socks', 'Rambo',\n",
              "       'Fiji', 'Rilo', 'Bilbo', 'Coopson', 'Yoda', 'Millie', 'Chet',\n",
              "       'Crouton', 'Daniel', 'Kaia', 'Murphy', 'Dotsy', 'Eazy', 'Coops',\n",
              "       'Fillup', 'Miley', 'Charl', 'Reagan', 'CeCe', 'Cuddles', 'Claude',\n",
              "       'Jessiga', 'Carter', 'Ole', 'Blipson', 'Reptar', 'Trevith', 'Berb',\n",
              "       'Bob', 'Colin', 'Brian', 'Oliviér', 'Grady', 'Kobe', 'Freddery',\n",
              "       'Bodie', 'Dunkin', 'Wally', 'Tupawc', 'Amber', 'Herschel', 'Edgar',\n",
              "       'Kingsley', 'Brockly', 'Richie', 'Molly', 'Vinscent', 'Cedrick',\n",
              "       'Hazel', 'Lolo', 'Eriq', 'Phred', 'the', 'Maxwell', 'Geoff',\n",
              "       'Covach', 'Durg', 'Fynn', 'Ricky', 'Herald', 'Lucky', 'Trip',\n",
              "       'Clarence', 'Hamrick', 'Brad', 'Pubert', 'Frönq', 'Derby',\n",
              "       'Lizzie', 'Blakely', 'Opal', 'Marq', 'Kramer', 'Tyrone', 'Gordon',\n",
              "       'Baxter', 'Mona', 'Horace', 'Crimson', 'Birf', 'Hammond',\n",
              "       'Lorelei', 'Marty', 'Brooks', 'Petrick', 'Hubertson', 'Gerbald',\n",
              "       'Oreo', 'Bruiser', 'Perry', 'Bobby', 'Jeph', 'Obi', 'Tino',\n",
              "       'Kulet', 'Lupe', 'Tiger', 'Jiminy', 'Griffin', 'Banjo', 'Brandy',\n",
              "       'Lulu', 'Darrel', 'Taco', 'Joey', 'Patrick', 'Kreg', 'Todo',\n",
              "       'Tess', 'Ulysses', 'Toffee', 'Apollo', 'Carly', 'Asher', 'Glacier',\n",
              "       'Chuck', 'actually', 'Champ', 'Ozzie', 'Griswold', 'Cheesy',\n",
              "       'Moofasa', 'Hector', 'Goliath', 'Kawhi', 'Ozzy', 'by', 'Emmie',\n",
              "       'Penelope', 'Willie', 'Rinna', 'Mike', 'William', 'Dwight', 'Evy',\n",
              "       'Hurley', 'Rubio', 'officially', 'Chompsky', 'Linda', 'Tug',\n",
              "       'Tango', 'Grizz', 'Jerome', 'Crumpet', 'Jessifer', 'Ralph',\n",
              "       'Sandy', 'Humphrey', 'Tassy', 'Juckson', 'Chuq', 'Tyrus', 'Karl',\n",
              "       'Godzilla', 'Vinnie', 'Kenneth', 'Herm', 'Bert', 'Striker',\n",
              "       'Donny', 'Pepper', 'Bernie', 'Buddah', 'Lenny', 'Arnold', 'Zuzu',\n",
              "       'Mollie', 'Laela', 'Tedders', 'Superpup', 'Rufio', 'Jeb', 'Rodman',\n",
              "       'Jonah', 'Chesney', 'Kenny', 'Henry', 'Bobbay', 'Mitch', 'Kaiya',\n",
              "       'Acro', 'Aiden', 'Obie', 'Dot', 'Shnuggles', 'Kendall', 'Jeffri',\n",
              "       'Steve', 'Eve', 'Mac', 'Fletcher', 'Kenzie', 'Pumpkin', 'Schnozz',\n",
              "       'Gustaf', 'Cheryl', 'Ed', 'Leonidas', 'Norman', 'Caryl', 'Scott',\n",
              "       'Taz', 'Darby', 'Jackie', 'light', 'Jazz', 'Franq', 'Pippin',\n",
              "       'Rolf', 'Snickers', 'Ridley', 'Cal', 'Bradley', 'Bubba', 'Tuco',\n",
              "       'Patch', 'Mojo', 'Batdog', 'Dylan', 'space', 'Mark', 'JD',\n",
              "       'Alejandro', 'Scruffers', 'Pip', 'Julius', 'Tanner', 'Sparky',\n",
              "       'Anthony', 'Holly', 'Jett', 'Amy', 'Sage', 'Andy', 'Mason',\n",
              "       'Trigger', 'Antony', 'Creg', 'Traviss', 'Gin', 'Jeffrie', 'Danny',\n",
              "       'Ester', 'Pluto', 'Bloo', 'Edd', 'Paull', 'Willy', 'Herb', 'Damon',\n",
              "       'Peanut', 'Nigel', 'Butters', 'Sandra', 'Fabio', 'Randall', 'Liam',\n",
              "       'Tommy', 'Ben', 'Raphael', 'Julio', 'Andru', 'Kloey', 'Shawwn',\n",
              "       'Skye', 'Kollin', 'Ronduh', 'Billl', 'Saydee', 'Dug', 'Tessa',\n",
              "       'Sully', 'Kirk', 'Ralf', 'Clarq', 'Jaspers', 'Samsom', 'Terrance',\n",
              "       'Harrison', 'Chaz', 'Jeremy', 'Jaycob', 'Lambeau', 'Ruffles',\n",
              "       'Amélie', 'Bobb', 'Banditt', 'Kevon', 'Winifred', 'Hanz',\n",
              "       'Churlie', 'Zeek', 'Timofy', 'Maks', 'Jomathan', 'Kallie',\n",
              "       'Marvin', 'Spark', 'Gòrdón', 'Jo', 'DayZ', 'Jareld', 'Torque',\n",
              "       'Ron', 'Skittles', 'Cleopatricia', 'Erik', 'Stu', 'Tedrick',\n",
              "       'Shaggy', 'Filup', 'Kial', 'Naphaniel', 'Dook', 'Hall', 'Philippe',\n",
              "       'Biden', 'Fwed', 'Genevieve', 'Joshwa', 'Timison', 'Bradlay',\n",
              "       'Pipsy', 'Clybe', 'Keet', 'Carll', 'Jockson', 'Josep', 'Lugan',\n",
              "       'Christoper'], dtype=object)"
            ]
          },
          "metadata": {},
          "execution_count": 36
        }
      ]
    },
    {
      "cell_type": "code",
      "metadata": {
        "id": "w-nXm-82dgJg"
      },
      "source": [
        "df.name.replace(['all', 'not', 'the', 'just', 'by', 'a', 'Piper', 'an', 'just', \n",
        "             'Ito', 'one', 'Shikha',  'officially', 'my', 'unacceptable', 'incredibly',\n",
        "               'one', 'his', 'very'],np.NaN, inplace =True) \n",
        "df['name'].fillna(value=\"None\", inplace=True) # shaikh isnt dog name :( "
      ],
      "execution_count": 37,
      "outputs": []
    },
    {
      "cell_type": "markdown",
      "metadata": {
        "id": "LqNC4WL0bejS"
      },
      "source": [
        "**Test:**"
      ]
    },
    {
      "cell_type": "code",
      "metadata": {
        "colab": {
          "base_uri": "https://localhost:8080/"
        },
        "id": "BFcollVebewd",
        "outputId": "bf774571-cc49-49bc-a2b9-93aa879e1e18"
      },
      "source": [
        "df.name.value_counts()"
      ],
      "execution_count": 38,
      "outputs": [
        {
          "output_type": "execute_result",
          "data": {
            "text/plain": [
              "None       637\n",
              "Charlie     11\n",
              "Cooper      10\n",
              "Lucy        10\n",
              "Oliver      10\n",
              "          ... \n",
              "Cal          1\n",
              "Holly        1\n",
              "Tess         1\n",
              "Coleman      1\n",
              "Clybe        1\n",
              "Name: name, Length: 919, dtype: int64"
            ]
          },
          "metadata": {},
          "execution_count": 38
        }
      ]
    },
    {
      "cell_type": "markdown",
      "metadata": {
        "id": "bIZMIgipeFTY"
      },
      "source": [
        "**Define :**\n",
        "\n",
        "Create one column for the various dog types: doggo, floofer, pupper, puppo then remove the columns since there’s no need for it "
      ]
    },
    {
      "cell_type": "markdown",
      "metadata": {
        "id": "i0FEI54OeFgM"
      },
      "source": [
        "**Code:**"
      ]
    },
    {
      "cell_type": "code",
      "metadata": {
        "id": "9NqlVBSkeFtB"
      },
      "source": [
        "# Extract the type from the text column then add to  dog_type column\n",
        "df['dog_type'] = df['text'].str.extract('(doggo|floofer|pupper|puppo)')"
      ],
      "execution_count": 39,
      "outputs": []
    },
    {
      "cell_type": "code",
      "metadata": {
        "colab": {
          "base_uri": "https://localhost:8080/",
          "height": 201
        },
        "id": "i9SClWVFfrr2",
        "outputId": "cc62798f-5167-4c07-a9cd-f749e98b09ad"
      },
      "source": [
        "df[['dog_type', 'doggo', 'floofer', 'pupper', 'puppo']].sample(5)\n"
      ],
      "execution_count": 40,
      "outputs": [
        {
          "output_type": "execute_result",
          "data": {
            "text/html": [
              "<div>\n",
              "<style scoped>\n",
              "    .dataframe tbody tr th:only-of-type {\n",
              "        vertical-align: middle;\n",
              "    }\n",
              "\n",
              "    .dataframe tbody tr th {\n",
              "        vertical-align: top;\n",
              "    }\n",
              "\n",
              "    .dataframe thead th {\n",
              "        text-align: right;\n",
              "    }\n",
              "</style>\n",
              "<table border=\"1\" class=\"dataframe\">\n",
              "  <thead>\n",
              "    <tr style=\"text-align: right;\">\n",
              "      <th></th>\n",
              "      <th>dog_type</th>\n",
              "      <th>doggo</th>\n",
              "      <th>floofer</th>\n",
              "      <th>pupper</th>\n",
              "      <th>puppo</th>\n",
              "    </tr>\n",
              "  </thead>\n",
              "  <tbody>\n",
              "    <tr>\n",
              "      <th>429</th>\n",
              "      <td>pupper</td>\n",
              "      <td>doggo</td>\n",
              "      <td>None</td>\n",
              "      <td>pupper</td>\n",
              "      <td>None</td>\n",
              "    </tr>\n",
              "    <tr>\n",
              "      <th>1597</th>\n",
              "      <td>NaN</td>\n",
              "      <td>None</td>\n",
              "      <td>None</td>\n",
              "      <td>None</td>\n",
              "      <td>None</td>\n",
              "    </tr>\n",
              "    <tr>\n",
              "      <th>28</th>\n",
              "      <td>pupper</td>\n",
              "      <td>None</td>\n",
              "      <td>None</td>\n",
              "      <td>pupper</td>\n",
              "      <td>None</td>\n",
              "    </tr>\n",
              "    <tr>\n",
              "      <th>724</th>\n",
              "      <td>NaN</td>\n",
              "      <td>None</td>\n",
              "      <td>None</td>\n",
              "      <td>None</td>\n",
              "      <td>None</td>\n",
              "    </tr>\n",
              "    <tr>\n",
              "      <th>1452</th>\n",
              "      <td>pupper</td>\n",
              "      <td>None</td>\n",
              "      <td>None</td>\n",
              "      <td>pupper</td>\n",
              "      <td>None</td>\n",
              "    </tr>\n",
              "  </tbody>\n",
              "</table>\n",
              "</div>"
            ],
            "text/plain": [
              "     dog_type  doggo floofer  pupper puppo\n",
              "429    pupper  doggo    None  pupper  None\n",
              "1597      NaN   None    None    None  None\n",
              "28     pupper   None    None  pupper  None\n",
              "724       NaN   None    None    None  None\n",
              "1452   pupper   None    None  pupper  None"
            ]
          },
          "metadata": {},
          "execution_count": 40
        }
      ]
    },
    {
      "cell_type": "code",
      "metadata": {
        "id": "OYlEOQQwfr6C"
      },
      "source": [
        "df = df.drop(['doggo','floofer', 'pupper','puppo'],axis=1) # no need for it after dog type colums"
      ],
      "execution_count": 41,
      "outputs": []
    },
    {
      "cell_type": "code",
      "metadata": {
        "colab": {
          "base_uri": "https://localhost:8080/"
        },
        "id": "ZRL3qlrUgEjG",
        "outputId": "6193a2ac-0b15-4bf4-8169-85a5e5d1dc35"
      },
      "source": [
        "df.info()"
      ],
      "execution_count": 42,
      "outputs": [
        {
          "output_type": "stream",
          "text": [
            "<class 'pandas.core.frame.DataFrame'>\n",
            "Int64Index: 1994 entries, 0 to 2072\n",
            "Data columns (total 23 columns):\n",
            " #   Column               Non-Null Count  Dtype              \n",
            "---  ------               --------------  -----              \n",
            " 0   tweet_id             1994 non-null   object             \n",
            " 1   timestamp            1994 non-null   datetime64[ns, UTC]\n",
            " 2   source               1994 non-null   object             \n",
            " 3   text                 1994 non-null   object             \n",
            " 4   retweeted_status_id  0 non-null      float64            \n",
            " 5   expanded_urls        1994 non-null   object             \n",
            " 6   rating_numerator     1994 non-null   float64            \n",
            " 7   rating_denominator   1994 non-null   float64            \n",
            " 8   name                 1994 non-null   object             \n",
            " 9   favorites            1994 non-null   int64              \n",
            " 10  retweets             1994 non-null   int64              \n",
            " 11  jpg_url              1994 non-null   object             \n",
            " 12  img_num              1994 non-null   object             \n",
            " 13  p1                   1994 non-null   object             \n",
            " 14  p1_conf              1994 non-null   float64            \n",
            " 15  p1_dog               1994 non-null   bool               \n",
            " 16  p2                   1994 non-null   object             \n",
            " 17  p2_conf              1994 non-null   float64            \n",
            " 18  p2_dog               1994 non-null   bool               \n",
            " 19  p3                   1994 non-null   object             \n",
            " 20  p3_conf              1994 non-null   float64            \n",
            " 21  p3_dog               1994 non-null   bool               \n",
            " 22  dog_type             326 non-null    object             \n",
            "dtypes: bool(3), datetime64[ns, UTC](1), float64(6), int64(2), object(11)\n",
            "memory usage: 333.0+ KB\n"
          ],
          "name": "stdout"
        }
      ]
    },
    {
      "cell_type": "markdown",
      "metadata": {
        "id": "947wRjRBeF4D"
      },
      "source": [
        "**Test:**"
      ]
    },
    {
      "cell_type": "code",
      "metadata": {
        "colab": {
          "base_uri": "https://localhost:8080/"
        },
        "id": "BxoOLY7reGDW",
        "outputId": "1f20ba46-49f6-4564-eead-312c259c4a59"
      },
      "source": [
        "df.dog_type.value_counts()\n"
      ],
      "execution_count": 43,
      "outputs": [
        {
          "output_type": "execute_result",
          "data": {
            "text/plain": [
              "pupper     223\n",
              "doggo       72\n",
              "puppo       28\n",
              "floofer      3\n",
              "Name: dog_type, dtype: int64"
            ]
          },
          "metadata": {},
          "execution_count": 43
        }
      ]
    },
    {
      "cell_type": "markdown",
      "metadata": {
        "id": "VwsEthHZggm5"
      },
      "source": [
        "**Define:**\n",
        "\n",
        "Remove all rating denominator values below 10"
      ]
    },
    {
      "cell_type": "markdown",
      "metadata": {
        "id": "3Q16Xs79ghgD"
      },
      "source": [
        "**Code:**"
      ]
    },
    {
      "cell_type": "code",
      "metadata": {
        "colab": {
          "base_uri": "https://localhost:8080/",
          "height": 244
        },
        "id": "T9OB831nghup",
        "outputId": "4e2001ce-4d42-4afb-bcb6-4b395f766ad5"
      },
      "source": [
        "#check rate that is not 10 \n",
        "df_rate = df[df['rating_denominator']< 10]\n",
        "df_rate"
      ],
      "execution_count": 44,
      "outputs": [
        {
          "output_type": "execute_result",
          "data": {
            "text/html": [
              "<div>\n",
              "<style scoped>\n",
              "    .dataframe tbody tr th:only-of-type {\n",
              "        vertical-align: middle;\n",
              "    }\n",
              "\n",
              "    .dataframe tbody tr th {\n",
              "        vertical-align: top;\n",
              "    }\n",
              "\n",
              "    .dataframe thead th {\n",
              "        text-align: right;\n",
              "    }\n",
              "</style>\n",
              "<table border=\"1\" class=\"dataframe\">\n",
              "  <thead>\n",
              "    <tr style=\"text-align: right;\">\n",
              "      <th></th>\n",
              "      <th>tweet_id</th>\n",
              "      <th>timestamp</th>\n",
              "      <th>source</th>\n",
              "      <th>text</th>\n",
              "      <th>retweeted_status_id</th>\n",
              "      <th>expanded_urls</th>\n",
              "      <th>rating_numerator</th>\n",
              "      <th>rating_denominator</th>\n",
              "      <th>name</th>\n",
              "      <th>favorites</th>\n",
              "      <th>retweets</th>\n",
              "      <th>jpg_url</th>\n",
              "      <th>img_num</th>\n",
              "      <th>p1</th>\n",
              "      <th>p1_conf</th>\n",
              "      <th>p1_dog</th>\n",
              "      <th>p2</th>\n",
              "      <th>p2_conf</th>\n",
              "      <th>p2_dog</th>\n",
              "      <th>p3</th>\n",
              "      <th>p3_conf</th>\n",
              "      <th>p3_dog</th>\n",
              "      <th>dog_type</th>\n",
              "    </tr>\n",
              "  </thead>\n",
              "  <tbody>\n",
              "    <tr>\n",
              "      <th>415</th>\n",
              "      <td>810984652412424192</td>\n",
              "      <td>2016-12-19 23:06:23+00:00</td>\n",
              "      <td>&lt;a href=\"http://twitter.com/download/iphone\" r...</td>\n",
              "      <td>Meet Sam. She smiles 24/7 &amp;amp; secretly aspir...</td>\n",
              "      <td>NaN</td>\n",
              "      <td>https://www.gofundme.com/sams-smile,https://tw...</td>\n",
              "      <td>24.0</td>\n",
              "      <td>7.0</td>\n",
              "      <td>Sam</td>\n",
              "      <td>5927</td>\n",
              "      <td>1655</td>\n",
              "      <td>https://pbs.twimg.com/media/C0EyPZbXAAAceSc.jpg</td>\n",
              "      <td>1</td>\n",
              "      <td>golden_retriever</td>\n",
              "      <td>0.871342</td>\n",
              "      <td>True</td>\n",
              "      <td>Tibetan_mastiff</td>\n",
              "      <td>0.036708</td>\n",
              "      <td>True</td>\n",
              "      <td>Labrador_retriever</td>\n",
              "      <td>0.025823</td>\n",
              "      <td>True</td>\n",
              "      <td>NaN</td>\n",
              "    </tr>\n",
              "    <tr>\n",
              "      <th>2052</th>\n",
              "      <td>666287406224695296</td>\n",
              "      <td>2015-11-16 16:11:11+00:00</td>\n",
              "      <td>&lt;a href=\"http://twitter.com/download/iphone\" r...</td>\n",
              "      <td>This is an Albanian 3 1/2 legged  Episcopalian...</td>\n",
              "      <td>NaN</td>\n",
              "      <td>https://twitter.com/dog_rates/status/666287406...</td>\n",
              "      <td>1.0</td>\n",
              "      <td>2.0</td>\n",
              "      <td>None</td>\n",
              "      <td>152</td>\n",
              "      <td>71</td>\n",
              "      <td>https://pbs.twimg.com/media/CT8g3BpUEAAuFjg.jpg</td>\n",
              "      <td>1</td>\n",
              "      <td>Maltese_dog</td>\n",
              "      <td>0.857531</td>\n",
              "      <td>True</td>\n",
              "      <td>toy_poodle</td>\n",
              "      <td>0.063064</td>\n",
              "      <td>True</td>\n",
              "      <td>miniature_poodle</td>\n",
              "      <td>0.025581</td>\n",
              "      <td>True</td>\n",
              "      <td>NaN</td>\n",
              "    </tr>\n",
              "  </tbody>\n",
              "</table>\n",
              "</div>"
            ],
            "text/plain": [
              "                tweet_id                 timestamp  ... p3_dog dog_type\n",
              "415   810984652412424192 2016-12-19 23:06:23+00:00  ...   True      NaN\n",
              "2052  666287406224695296 2015-11-16 16:11:11+00:00  ...   True      NaN\n",
              "\n",
              "[2 rows x 23 columns]"
            ]
          },
          "metadata": {},
          "execution_count": 44
        }
      ]
    },
    {
      "cell_type": "code",
      "metadata": {
        "id": "1nBkh1Lxps4f"
      },
      "source": [
        "df.drop([415], inplace=True)\n",
        "df.drop([2052], inplace=True)"
      ],
      "execution_count": 45,
      "outputs": []
    },
    {
      "cell_type": "markdown",
      "metadata": {
        "id": "gaCd2_gegh4l"
      },
      "source": [
        "**Test:**"
      ]
    },
    {
      "cell_type": "code",
      "metadata": {
        "colab": {
          "base_uri": "https://localhost:8080/",
          "height": 68
        },
        "id": "g8RHCpYRgiEr",
        "outputId": "da4d4b2e-cb27-4d59-e028-505c7c792021"
      },
      "source": [
        "df[df['rating_denominator']==7.0]\n",
        "df[df['rating_denominator']==2.0]"
      ],
      "execution_count": 46,
      "outputs": [
        {
          "output_type": "execute_result",
          "data": {
            "text/html": [
              "<div>\n",
              "<style scoped>\n",
              "    .dataframe tbody tr th:only-of-type {\n",
              "        vertical-align: middle;\n",
              "    }\n",
              "\n",
              "    .dataframe tbody tr th {\n",
              "        vertical-align: top;\n",
              "    }\n",
              "\n",
              "    .dataframe thead th {\n",
              "        text-align: right;\n",
              "    }\n",
              "</style>\n",
              "<table border=\"1\" class=\"dataframe\">\n",
              "  <thead>\n",
              "    <tr style=\"text-align: right;\">\n",
              "      <th></th>\n",
              "      <th>tweet_id</th>\n",
              "      <th>timestamp</th>\n",
              "      <th>source</th>\n",
              "      <th>text</th>\n",
              "      <th>retweeted_status_id</th>\n",
              "      <th>expanded_urls</th>\n",
              "      <th>rating_numerator</th>\n",
              "      <th>rating_denominator</th>\n",
              "      <th>name</th>\n",
              "      <th>favorites</th>\n",
              "      <th>retweets</th>\n",
              "      <th>jpg_url</th>\n",
              "      <th>img_num</th>\n",
              "      <th>p1</th>\n",
              "      <th>p1_conf</th>\n",
              "      <th>p1_dog</th>\n",
              "      <th>p2</th>\n",
              "      <th>p2_conf</th>\n",
              "      <th>p2_dog</th>\n",
              "      <th>p3</th>\n",
              "      <th>p3_conf</th>\n",
              "      <th>p3_dog</th>\n",
              "      <th>dog_type</th>\n",
              "    </tr>\n",
              "  </thead>\n",
              "  <tbody>\n",
              "  </tbody>\n",
              "</table>\n",
              "</div>"
            ],
            "text/plain": [
              "Empty DataFrame\n",
              "Columns: [tweet_id, timestamp, source, text, retweeted_status_id, expanded_urls, rating_numerator, rating_denominator, name, favorites, retweets, jpg_url, img_num, p1, p1_conf, p1_dog, p2, p2_conf, p2_dog, p3, p3_conf, p3_dog, dog_type]\n",
              "Index: []"
            ]
          },
          "metadata": {},
          "execution_count": 46
        }
      ]
    },
    {
      "cell_type": "code",
      "metadata": {
        "colab": {
          "base_uri": "https://localhost:8080/"
        },
        "id": "l5UWApYmqLIl",
        "outputId": "06703557-6a7b-47c7-f5ea-77dce402b329"
      },
      "source": [
        "df.rating_denominator.value_counts() \n"
      ],
      "execution_count": 47,
      "outputs": [
        {
          "output_type": "execute_result",
          "data": {
            "text/plain": [
              "10.0     1976\n",
              "50.0        3\n",
              "80.0        2\n",
              "11.0        2\n",
              "130.0       1\n",
              "170.0       1\n",
              "150.0       1\n",
              "120.0       1\n",
              "110.0       1\n",
              "40.0        1\n",
              "90.0        1\n",
              "20.0        1\n",
              "70.0        1\n",
              "Name: rating_denominator, dtype: int64"
            ]
          },
          "metadata": {},
          "execution_count": 47
        }
      ]
    },
    {
      "cell_type": "markdown",
      "metadata": {
        "id": "RTuljLVU1zFp"
      },
      "source": [
        "**Define:**\n",
        "\n",
        "Make the source column's content more readable by cleaning it up."
      ]
    },
    {
      "cell_type": "markdown",
      "metadata": {
        "id": "V3610qVv1zZW"
      },
      "source": [
        "**Code:**"
      ]
    },
    {
      "cell_type": "code",
      "metadata": {
        "id": "HqbknPoC1zox"
      },
      "source": [
        "df['source'] = df['source'].apply(lambda x: re.findall(r'>(.*)<', x)[0])"
      ],
      "execution_count": 48,
      "outputs": []
    },
    {
      "cell_type": "markdown",
      "metadata": {
        "id": "jStep4pD1z0y"
      },
      "source": [
        "**Test:**"
      ]
    },
    {
      "cell_type": "code",
      "metadata": {
        "colab": {
          "base_uri": "https://localhost:8080/",
          "height": 567
        },
        "id": "KkdhRXcM10E2",
        "outputId": "5e9c593c-0e02-4703-ef54-8494a85c25fb"
      },
      "source": [
        "df.head()"
      ],
      "execution_count": 49,
      "outputs": [
        {
          "output_type": "execute_result",
          "data": {
            "text/html": [
              "<div>\n",
              "<style scoped>\n",
              "    .dataframe tbody tr th:only-of-type {\n",
              "        vertical-align: middle;\n",
              "    }\n",
              "\n",
              "    .dataframe tbody tr th {\n",
              "        vertical-align: top;\n",
              "    }\n",
              "\n",
              "    .dataframe thead th {\n",
              "        text-align: right;\n",
              "    }\n",
              "</style>\n",
              "<table border=\"1\" class=\"dataframe\">\n",
              "  <thead>\n",
              "    <tr style=\"text-align: right;\">\n",
              "      <th></th>\n",
              "      <th>tweet_id</th>\n",
              "      <th>timestamp</th>\n",
              "      <th>source</th>\n",
              "      <th>text</th>\n",
              "      <th>retweeted_status_id</th>\n",
              "      <th>expanded_urls</th>\n",
              "      <th>rating_numerator</th>\n",
              "      <th>rating_denominator</th>\n",
              "      <th>name</th>\n",
              "      <th>favorites</th>\n",
              "      <th>retweets</th>\n",
              "      <th>jpg_url</th>\n",
              "      <th>img_num</th>\n",
              "      <th>p1</th>\n",
              "      <th>p1_conf</th>\n",
              "      <th>p1_dog</th>\n",
              "      <th>p2</th>\n",
              "      <th>p2_conf</th>\n",
              "      <th>p2_dog</th>\n",
              "      <th>p3</th>\n",
              "      <th>p3_conf</th>\n",
              "      <th>p3_dog</th>\n",
              "      <th>dog_type</th>\n",
              "    </tr>\n",
              "  </thead>\n",
              "  <tbody>\n",
              "    <tr>\n",
              "      <th>0</th>\n",
              "      <td>892420643555336193</td>\n",
              "      <td>2017-08-01 16:23:56+00:00</td>\n",
              "      <td>Twitter for iPhone</td>\n",
              "      <td>This is Phineas. He's a mystical boy. Only eve...</td>\n",
              "      <td>NaN</td>\n",
              "      <td>https://twitter.com/dog_rates/status/892420643...</td>\n",
              "      <td>13.0</td>\n",
              "      <td>10.0</td>\n",
              "      <td>Phineas</td>\n",
              "      <td>39467</td>\n",
              "      <td>8853</td>\n",
              "      <td>https://pbs.twimg.com/media/DGKD1-bXoAAIAUK.jpg</td>\n",
              "      <td>1</td>\n",
              "      <td>orange</td>\n",
              "      <td>0.097049</td>\n",
              "      <td>False</td>\n",
              "      <td>bagel</td>\n",
              "      <td>0.085851</td>\n",
              "      <td>False</td>\n",
              "      <td>banana</td>\n",
              "      <td>0.076110</td>\n",
              "      <td>False</td>\n",
              "      <td>NaN</td>\n",
              "    </tr>\n",
              "    <tr>\n",
              "      <th>1</th>\n",
              "      <td>892177421306343426</td>\n",
              "      <td>2017-08-01 00:17:27+00:00</td>\n",
              "      <td>Twitter for iPhone</td>\n",
              "      <td>This is Tilly. She's just checking pup on you....</td>\n",
              "      <td>NaN</td>\n",
              "      <td>https://twitter.com/dog_rates/status/892177421...</td>\n",
              "      <td>13.0</td>\n",
              "      <td>10.0</td>\n",
              "      <td>Tilly</td>\n",
              "      <td>33819</td>\n",
              "      <td>6514</td>\n",
              "      <td>https://pbs.twimg.com/media/DGGmoV4XsAAUL6n.jpg</td>\n",
              "      <td>1</td>\n",
              "      <td>Chihuahua</td>\n",
              "      <td>0.323581</td>\n",
              "      <td>True</td>\n",
              "      <td>Pekinese</td>\n",
              "      <td>0.090647</td>\n",
              "      <td>True</td>\n",
              "      <td>papillon</td>\n",
              "      <td>0.068957</td>\n",
              "      <td>True</td>\n",
              "      <td>NaN</td>\n",
              "    </tr>\n",
              "    <tr>\n",
              "      <th>2</th>\n",
              "      <td>891815181378084864</td>\n",
              "      <td>2017-07-31 00:18:03+00:00</td>\n",
              "      <td>Twitter for iPhone</td>\n",
              "      <td>This is Archie. He is a rare Norwegian Pouncin...</td>\n",
              "      <td>NaN</td>\n",
              "      <td>https://twitter.com/dog_rates/status/891815181...</td>\n",
              "      <td>12.0</td>\n",
              "      <td>10.0</td>\n",
              "      <td>Archie</td>\n",
              "      <td>25461</td>\n",
              "      <td>4328</td>\n",
              "      <td>https://pbs.twimg.com/media/DGBdLU1WsAANxJ9.jpg</td>\n",
              "      <td>1</td>\n",
              "      <td>Chihuahua</td>\n",
              "      <td>0.716012</td>\n",
              "      <td>True</td>\n",
              "      <td>malamute</td>\n",
              "      <td>0.078253</td>\n",
              "      <td>True</td>\n",
              "      <td>kelpie</td>\n",
              "      <td>0.031379</td>\n",
              "      <td>True</td>\n",
              "      <td>NaN</td>\n",
              "    </tr>\n",
              "    <tr>\n",
              "      <th>3</th>\n",
              "      <td>891689557279858688</td>\n",
              "      <td>2017-07-30 15:58:51+00:00</td>\n",
              "      <td>Twitter for iPhone</td>\n",
              "      <td>This is Darla. She commenced a snooze mid meal...</td>\n",
              "      <td>NaN</td>\n",
              "      <td>https://twitter.com/dog_rates/status/891689557...</td>\n",
              "      <td>13.0</td>\n",
              "      <td>10.0</td>\n",
              "      <td>Darla</td>\n",
              "      <td>42908</td>\n",
              "      <td>8964</td>\n",
              "      <td>https://pbs.twimg.com/media/DF_q7IAWsAEuuN8.jpg</td>\n",
              "      <td>1</td>\n",
              "      <td>paper_towel</td>\n",
              "      <td>0.170278</td>\n",
              "      <td>False</td>\n",
              "      <td>Labrador_retriever</td>\n",
              "      <td>0.168086</td>\n",
              "      <td>True</td>\n",
              "      <td>spatula</td>\n",
              "      <td>0.040836</td>\n",
              "      <td>False</td>\n",
              "      <td>NaN</td>\n",
              "    </tr>\n",
              "    <tr>\n",
              "      <th>4</th>\n",
              "      <td>891327558926688256</td>\n",
              "      <td>2017-07-29 16:00:24+00:00</td>\n",
              "      <td>Twitter for iPhone</td>\n",
              "      <td>This is Franklin. He would like you to stop ca...</td>\n",
              "      <td>NaN</td>\n",
              "      <td>https://twitter.com/dog_rates/status/891327558...</td>\n",
              "      <td>12.0</td>\n",
              "      <td>10.0</td>\n",
              "      <td>Franklin</td>\n",
              "      <td>41048</td>\n",
              "      <td>9774</td>\n",
              "      <td>https://pbs.twimg.com/media/DF6hr6BUMAAzZgT.jpg</td>\n",
              "      <td>2</td>\n",
              "      <td>basset</td>\n",
              "      <td>0.555712</td>\n",
              "      <td>True</td>\n",
              "      <td>English_springer</td>\n",
              "      <td>0.225770</td>\n",
              "      <td>True</td>\n",
              "      <td>German_short-haired_pointer</td>\n",
              "      <td>0.175219</td>\n",
              "      <td>True</td>\n",
              "      <td>NaN</td>\n",
              "    </tr>\n",
              "  </tbody>\n",
              "</table>\n",
              "</div>"
            ],
            "text/plain": [
              "             tweet_id                 timestamp  ... p3_dog dog_type\n",
              "0  892420643555336193 2017-08-01 16:23:56+00:00  ...  False      NaN\n",
              "1  892177421306343426 2017-08-01 00:17:27+00:00  ...   True      NaN\n",
              "2  891815181378084864 2017-07-31 00:18:03+00:00  ...   True      NaN\n",
              "3  891689557279858688 2017-07-30 15:58:51+00:00  ...  False      NaN\n",
              "4  891327558926688256 2017-07-29 16:00:24+00:00  ...   True      NaN\n",
              "\n",
              "[5 rows x 23 columns]"
            ]
          },
          "metadata": {},
          "execution_count": 49
        }
      ]
    },
    {
      "cell_type": "markdown",
      "metadata": {
        "id": "jHgDFY5wXqcP"
      },
      "source": [
        "**Define:**\n",
        "\n",
        "Delete retweets"
      ]
    },
    {
      "cell_type": "markdown",
      "metadata": {
        "id": "uldkVRIxXquK"
      },
      "source": [
        "**Code:**"
      ]
    },
    {
      "cell_type": "code",
      "metadata": {
        "id": "qzdMD7XeXq59"
      },
      "source": [
        "df = df.drop(['retweeted_status_id'] , axis=1)"
      ],
      "execution_count": 50,
      "outputs": []
    },
    {
      "cell_type": "markdown",
      "metadata": {
        "id": "rNsEIkY1XrLJ"
      },
      "source": [
        "**Test:**"
      ]
    },
    {
      "cell_type": "code",
      "metadata": {
        "colab": {
          "base_uri": "https://localhost:8080/"
        },
        "id": "1puZvnEuXrWX",
        "outputId": "aeb57fa7-5ef9-4130-d85a-28d7bbe2ce9e"
      },
      "source": [
        "df.columns"
      ],
      "execution_count": 51,
      "outputs": [
        {
          "output_type": "execute_result",
          "data": {
            "text/plain": [
              "Index(['tweet_id', 'timestamp', 'source', 'text', 'expanded_urls',\n",
              "       'rating_numerator', 'rating_denominator', 'name', 'favorites',\n",
              "       'retweets', 'jpg_url', 'img_num', 'p1', 'p1_conf', 'p1_dog', 'p2',\n",
              "       'p2_conf', 'p2_dog', 'p3', 'p3_conf', 'p3_dog', 'dog_type'],\n",
              "      dtype='object')"
            ]
          },
          "metadata": {},
          "execution_count": 51
        }
      ]
    },
    {
      "cell_type": "code",
      "metadata": {
        "colab": {
          "base_uri": "https://localhost:8080/"
        },
        "id": "kNwAZuf8aWZ-",
        "outputId": "6ac10b91-cdc0-4044-d303-2c0df28e6cf0"
      },
      "source": [
        "df.info()"
      ],
      "execution_count": 52,
      "outputs": [
        {
          "output_type": "stream",
          "text": [
            "<class 'pandas.core.frame.DataFrame'>\n",
            "Int64Index: 1992 entries, 0 to 2072\n",
            "Data columns (total 22 columns):\n",
            " #   Column              Non-Null Count  Dtype              \n",
            "---  ------              --------------  -----              \n",
            " 0   tweet_id            1992 non-null   object             \n",
            " 1   timestamp           1992 non-null   datetime64[ns, UTC]\n",
            " 2   source              1992 non-null   object             \n",
            " 3   text                1992 non-null   object             \n",
            " 4   expanded_urls       1992 non-null   object             \n",
            " 5   rating_numerator    1992 non-null   float64            \n",
            " 6   rating_denominator  1992 non-null   float64            \n",
            " 7   name                1992 non-null   object             \n",
            " 8   favorites           1992 non-null   int64              \n",
            " 9   retweets            1992 non-null   int64              \n",
            " 10  jpg_url             1992 non-null   object             \n",
            " 11  img_num             1992 non-null   object             \n",
            " 12  p1                  1992 non-null   object             \n",
            " 13  p1_conf             1992 non-null   float64            \n",
            " 14  p1_dog              1992 non-null   bool               \n",
            " 15  p2                  1992 non-null   object             \n",
            " 16  p2_conf             1992 non-null   float64            \n",
            " 17  p2_dog              1992 non-null   bool               \n",
            " 18  p3                  1992 non-null   object             \n",
            " 19  p3_conf             1992 non-null   float64            \n",
            " 20  p3_dog              1992 non-null   bool               \n",
            " 21  dog_type            326 non-null    object             \n",
            "dtypes: bool(3), datetime64[ns, UTC](1), float64(5), int64(2), object(11)\n",
            "memory usage: 317.1+ KB\n"
          ],
          "name": "stdout"
        }
      ]
    },
    {
      "cell_type": "markdown",
      "metadata": {
        "id": "h2YPL66YrAw3"
      },
      "source": [
        "# **Visualization:**\n",
        "\n",
        "We want to use visualizing to answer certain questions once we finish the wrangling process, which includes gathering, assessing, and cleaning the provided data. \n",
        "After gathering, assessing, and cleaning our data,  we used several attributes.\n",
        "\n"
      ]
    },
    {
      "cell_type": "markdown",
      "metadata": {
        "id": "zP3jZLHwsJdN"
      },
      "source": [
        "**Visualization 1:Find out the top ten dog names with retweets rate.**\n"
      ]
    },
    {
      "cell_type": "code",
      "metadata": {
        "colab": {
          "base_uri": "https://localhost:8080/",
          "height": 294
        },
        "id": "YBcYbJu-s3Xf",
        "outputId": "2a8486b6-b453-4b77-8978-6ca33e552c8f"
      },
      "source": [
        "df.drop(df.query('(name == \"None\")').index ,inplace=True) \n",
        "sns.barplot(y=\"name\", x=\"retweets\", data = df[0:10]).set_title('top 10 dog names with highest retweets rate');"
      ],
      "execution_count": 53,
      "outputs": [
        {
          "output_type": "display_data",
          "data": {
            "image/png": "[encoded data removed]",
            "text/plain": [
              "<Figure size 432x288 with 1 Axes>"
            ]
          },
          "metadata": {
            "needs_background": "light"
          }
        }
      ]
    },
    {
      "cell_type": "markdown",
      "metadata": {
        "id": "uPeRLt4q4L-E"
      },
      "source": [
        "After removing None values and unsuitable dog names such as (\"the\", \"very\", \"all\", \"a\", \"an\",...), we want to discover the top 10 dog names with the most retweets.\n",
        "\n",
        "As seen in the graph, the name of the dog \"Franklin\" received the most retweets, followed by the name of the dog \"phineas.\""
      ]
    },
    {
      "cell_type": "markdown",
      "metadata": {
        "id": "j4U4Orunwz3d"
      },
      "source": [
        "**Visualization 2: Scatter plot between favorites and retweets.**\n"
      ]
    },
    {
      "cell_type": "code",
      "metadata": {
        "colab": {
          "base_uri": "https://localhost:8080/",
          "height": 310
        },
        "id": "xba7qHkfw05m",
        "outputId": "5d37150f-2a74-403b-868a-7ecf96cd817c"
      },
      "source": [
        "plt.scatter(df['favorites'], df['retweets'],color = '#356366')\n",
        "plt.xlabel('Favorites')\n",
        "plt.ylabel('Retweets')\n",
        "plt.title('Retweets and favorites Scatter plot')"
      ],
      "execution_count": 54,
      "outputs": [
        {
          "output_type": "execute_result",
          "data": {
            "text/plain": [
              "Text(0.5, 1.0, 'Retweets and favorites Scatter plot')"
            ]
          },
          "metadata": {},
          "execution_count": 54
        },
        {
          "output_type": "display_data",
          "data": {
            "image/png": "[encoded data removed]",
            "text/plain": [
              "<Figure size 432x288 with 1 Axes>"
            ]
          },
          "metadata": {
            "needs_background": "light"
          }
        }
      ]
    },
    {
      "cell_type": "code",
      "metadata": {
        "colab": {
          "base_uri": "https://localhost:8080/",
          "height": 109
        },
        "id": "aLQ0Q7bQysI1",
        "outputId": "9ed67494-eb95-4ad0-85ad-5f6d9f298e7c"
      },
      "source": [
        "df[['favorites','retweets']].corr()"
      ],
      "execution_count": 55,
      "outputs": [
        {
          "output_type": "execute_result",
          "data": {
            "text/html": [
              "<div>\n",
              "<style scoped>\n",
              "    .dataframe tbody tr th:only-of-type {\n",
              "        vertical-align: middle;\n",
              "    }\n",
              "\n",
              "    .dataframe tbody tr th {\n",
              "        vertical-align: top;\n",
              "    }\n",
              "\n",
              "    .dataframe thead th {\n",
              "        text-align: right;\n",
              "    }\n",
              "</style>\n",
              "<table border=\"1\" class=\"dataframe\">\n",
              "  <thead>\n",
              "    <tr style=\"text-align: right;\">\n",
              "      <th></th>\n",
              "      <th>favorites</th>\n",
              "      <th>retweets</th>\n",
              "    </tr>\n",
              "  </thead>\n",
              "  <tbody>\n",
              "    <tr>\n",
              "      <th>favorites</th>\n",
              "      <td>1.000000</td>\n",
              "      <td>0.923931</td>\n",
              "    </tr>\n",
              "    <tr>\n",
              "      <th>retweets</th>\n",
              "      <td>0.923931</td>\n",
              "      <td>1.000000</td>\n",
              "    </tr>\n",
              "  </tbody>\n",
              "</table>\n",
              "</div>"
            ],
            "text/plain": [
              "           favorites  retweets\n",
              "favorites   1.000000  0.923931\n",
              "retweets    0.923931  1.000000"
            ]
          },
          "metadata": {},
          "execution_count": 55
        }
      ]
    },
    {
      "cell_type": "markdown",
      "metadata": {
        "id": "QqXYe4wwzMDe"
      },
      "source": [
        "As expected in the scatter plot there is a  strong positive correlation (+0.92; shown by correlation result \n",
        "\n",
        "so there is strong positive  correlation between the retweets and favorites."
      ]
    },
    {
      "cell_type": "markdown",
      "metadata": {
        "id": "fchfDpRV0Agf"
      },
      "source": [
        "**Visualization 3:Most sources used**"
      ]
    },
    {
      "cell_type": "code",
      "metadata": {
        "colab": {
          "base_uri": "https://localhost:8080/",
          "height": 625
        },
        "id": "oL70lot00BFV",
        "outputId": "aecc05a2-4de4-43c0-e075-ef1ffef97f0a"
      },
      "source": [
        "sources = df['source'].value_counts()\n",
        "sources.plot(kind='barh', figsize=(10,10),grid=True, fontsize =15,\n",
        "             title = 'Most Source Used').set_xlabel('Count')\n",
        " \n",
        "plt.show()"
      ],
      "execution_count": 56,
      "outputs": [
        {
          "output_type": "display_data",
          "data": {
            "image/png": "[encoded data removed]",
            "text/plain": [
              "<Figure size 720x720 with 1 Axes>"
            ]
          },
          "metadata": {
            "needs_background": "light"
          }
        }
      ]
    },
    {
      "cell_type": "markdown",
      "metadata": {
        "id": "YB5vgh2o0BcJ"
      },
      "source": [
        "We can see from the above figure that the most use is by  iphone, and this is expected because using the  iphone is easier than the web"
      ]
    },
    {
      "cell_type": "code",
      "metadata": {
        "colab": {
          "base_uri": "https://localhost:8080/"
        },
        "id": "nqIVnzNo9sh5",
        "outputId": "4a56ca23-a08b-4710-8724-c214d1c1f935"
      },
      "source": [
        "pip install nbconvert\n"
      ],
      "execution_count": 57,
      "outputs": [
        {
          "output_type": "stream",
          "text": [
            "Requirement already satisfied: nbconvert in /usr/local/lib/python3.7/dist-packages (5.6.1)\n",
            "Requirement already satisfied: mistune<2,>=0.8.1 in /usr/local/lib/python3.7/dist-packages (from nbconvert) (0.8.4)\n",
            "Requirement already satisfied: bleach in /usr/local/lib/python3.7/dist-packages (from nbconvert) (4.0.0)\n",
            "Requirement already satisfied: jupyter-core in /usr/local/lib/python3.7/dist-packages (from nbconvert) (4.7.1)\n",
            "Requirement already satisfied: traitlets>=4.2 in /usr/local/lib/python3.7/dist-packages (from nbconvert) (5.0.5)\n",
            "Requirement already satisfied: nbformat>=4.4 in /usr/local/lib/python3.7/dist-packages (from nbconvert) (5.1.3)\n",
            "Requirement already satisfied: pandocfilters>=1.4.1 in /usr/local/lib/python3.7/dist-packages (from nbconvert) (1.4.3)\n",
            "Requirement already satisfied: defusedxml in /usr/local/lib/python3.7/dist-packages (from nbconvert) (0.7.1)\n",
            "Requirement already satisfied: jinja2>=2.4 in /usr/local/lib/python3.7/dist-packages (from nbconvert) (2.11.3)\n",
            "Requirement already satisfied: testpath in /usr/local/lib/python3.7/dist-packages (from nbconvert) (0.5.0)\n",
            "Requirement already satisfied: pygments in /usr/local/lib/python3.7/dist-packages (from nbconvert) (2.6.1)\n",
            "Requirement already satisfied: entrypoints>=0.2.2 in /usr/local/lib/python3.7/dist-packages (from nbconvert) (0.3)\n",
            "Requirement already satisfied: MarkupSafe>=0.23 in /usr/local/lib/python3.7/dist-packages (from jinja2>=2.4->nbconvert) (2.0.1)\n",
            "Requirement already satisfied: jsonschema!=2.5.0,>=2.4 in /usr/local/lib/python3.7/dist-packages (from nbformat>=4.4->nbconvert) (2.6.0)\n",
            "Requirement already satisfied: ipython-genutils in /usr/local/lib/python3.7/dist-packages (from nbformat>=4.4->nbconvert) (0.2.0)\n",
            "Requirement already satisfied: webencodings in /usr/local/lib/python3.7/dist-packages (from bleach->nbconvert) (0.5.1)\n",
            "Requirement already satisfied: six>=1.9.0 in /usr/local/lib/python3.7/dist-packages (from bleach->nbconvert) (1.15.0)\n",
            "Requirement already satisfied: packaging in /usr/local/lib/python3.7/dist-packages (from bleach->nbconvert) (21.0)\n",
            "Requirement already satisfied: pyparsing>=2.0.2 in /usr/local/lib/python3.7/dist-packages (from packaging->bleach->nbconvert) (2.4.7)\n"
          ],
          "name": "stdout"
        }
      ]
    },
    {
      "cell_type": "code",
      "metadata": {
        "id": "7dugECE29suV"
      },
      "source": [
        "%%shell\n",
        "jupyter nbconvert --to html /content/Project_Wrangle_and_Analyze_Data.ipynb "
      ],
      "execution_count": 57,
      "outputs": []
    },
    {
      "cell_type": "code",
      "metadata": {
        "id": "QjcRKIHtcFd4"
      },
      "source": [
        "df.to_csv(r'twitter_archive_master.csv', index = False)"
      ],
      "execution_count": 58,
      "outputs": []
    },
    {
      "cell_type": "markdown",
      "metadata": {
        "id": "VdekpZD54TTA"
      },
      "source": [
        "# **sources**\n",
        "\n",
        "http://ocrpsychology2015.blogspot.com/2015/06/\n",
        "https://video.udacity-data.com/topher/2018/November/5be5fb4c_twitter-api/twitter-api.py\n",
        "https://towardsdatascience.com/twitter-analytics-weratedogs-a441be7d4a85\n",
        "https://www.earthdatascience.org/courses/use-data-open-source-python/intro-to-apis/twitter-data-in-python/\n"
      ]
    }
  ]
}